{
  "nbformat": 4,
  "nbformat_minor": 0,
  "metadata": {
    "colab": {
      "name": "Spotify_recommender_NN_explore_RJProctor.ipynb",
      "provenance": [],
      "collapsed_sections": [],
      "authorship_tag": "ABX9TyOH61WRL2K81DItTse5Ui1R",
      "include_colab_link": true
    },
    "kernelspec": {
      "name": "python3",
      "display_name": "Python 3"
    },
    "accelerator": "GPU"
  },
  "cells": [
    {
      "cell_type": "markdown",
      "metadata": {
        "id": "view-in-github",
        "colab_type": "text"
      },
      "source": [
        "<a href=\"https://colab.research.google.com/github/jproctor-rebecca/lambdaprojects/blob/master/Spotify_recommender_NN_explore_RJProctor.ipynb\" target=\"_parent\"><img src=\"https://colab.research.google.com/assets/colab-badge.svg\" alt=\"Open In Colab\"/></a>"
      ]
    },
    {
      "cell_type": "markdown",
      "metadata": {
        "id": "F7XvTMN9Ljij"
      },
      "source": [
        "## Imports and enviroment setup"
      ]
    },
    {
      "cell_type": "code",
      "metadata": {
        "id": "L1wPWHwpLXSP"
      },
      "source": [
        "import pandas as pd\n",
        "import numpy as np\n",
        "import os\n",
        "\n",
        "import matplotlib.pyplot as plt\n",
        "\n",
        "import sklearn\n",
        "from sklearn.model_selection import train_test_split\n",
        "from sklearn.pipeline import Pipeline\n",
        "from sklearn.preprocessing import OneHotEncoder, OrdinalEncoder, StandardScaler\n",
        "from sklearn.feature_extraction.text import TfidfVectorizer\n",
        "from sklearn.cluster import KMeans\n",
        "from sklearn.neighbors import NearestNeighbors, BallTree\n",
        "from sklearn.decomposition import TruncatedSVD\n",
        "from sklearn.manifold import TSNE\n",
        "\n",
        "\n",
        "import tensorflow as tf\n",
        "from tensorflow.keras.models import Sequential\n",
        "from tensorflow.keras.layers import Dense, LSTM, RNN\n",
        "from keras.layers.embeddings import Embedding\n",
        "from keras.preprocessing import sequence\n",
        "\n",
        "# random state\n",
        "rs = 42"
      ],
      "execution_count": 1,
      "outputs": []
    },
    {
      "cell_type": "markdown",
      "metadata": {
        "id": "MQAysJuQLlIj"
      },
      "source": [
        "## Load and clean data"
      ]
    },
    {
      "cell_type": "code",
      "metadata": {
        "id": "hagFotJ0Llvq",
        "outputId": "02925a7e-e8d7-458a-92c5-6bb351d2b2f7",
        "colab": {
          "base_uri": "https://localhost:8080/",
          "height": 389
        }
      },
      "source": [
        "# load data\n",
        "# URL = 'https://github.com/Build-Week-Track-Team-7/explore/blob/main/data.csv.zip?raw=true'\n",
        "\n",
        "# path_to_zip = tf.keras.utils.get_file('./data.zip', origin=URL, extract=True)\n",
        "# PATH = os.path.join(os.path.dirname(path_to_zip), 'data')\n",
        "\n",
        "df_raw = pd.read_csv('./data.csv')\n",
        "df_raw.head()\n"
      ],
      "execution_count": 2,
      "outputs": [
        {
          "output_type": "execute_result",
          "data": {
            "text/html": [
              "<div>\n",
              "<style scoped>\n",
              "    .dataframe tbody tr th:only-of-type {\n",
              "        vertical-align: middle;\n",
              "    }\n",
              "\n",
              "    .dataframe tbody tr th {\n",
              "        vertical-align: top;\n",
              "    }\n",
              "\n",
              "    .dataframe thead th {\n",
              "        text-align: right;\n",
              "    }\n",
              "</style>\n",
              "<table border=\"1\" class=\"dataframe\">\n",
              "  <thead>\n",
              "    <tr style=\"text-align: right;\">\n",
              "      <th></th>\n",
              "      <th>acousticness</th>\n",
              "      <th>artists</th>\n",
              "      <th>danceability</th>\n",
              "      <th>duration_ms</th>\n",
              "      <th>energy</th>\n",
              "      <th>explicit</th>\n",
              "      <th>id</th>\n",
              "      <th>instrumentalness</th>\n",
              "      <th>key</th>\n",
              "      <th>liveness</th>\n",
              "      <th>loudness</th>\n",
              "      <th>mode</th>\n",
              "      <th>name</th>\n",
              "      <th>popularity</th>\n",
              "      <th>release_date</th>\n",
              "      <th>speechiness</th>\n",
              "      <th>tempo</th>\n",
              "      <th>valence</th>\n",
              "      <th>year</th>\n",
              "    </tr>\n",
              "  </thead>\n",
              "  <tbody>\n",
              "    <tr>\n",
              "      <th>0</th>\n",
              "      <td>0.995</td>\n",
              "      <td>['Carl Woitschach']</td>\n",
              "      <td>0.708</td>\n",
              "      <td>158648</td>\n",
              "      <td>0.1950</td>\n",
              "      <td>0</td>\n",
              "      <td>6KbQ3uYMLKb5jDxLF7wYDD</td>\n",
              "      <td>0.563</td>\n",
              "      <td>10</td>\n",
              "      <td>0.1510</td>\n",
              "      <td>-12.428</td>\n",
              "      <td>1</td>\n",
              "      <td>Singende Bataillone 1. Teil</td>\n",
              "      <td>0</td>\n",
              "      <td>1928</td>\n",
              "      <td>0.0506</td>\n",
              "      <td>118.469</td>\n",
              "      <td>0.7790</td>\n",
              "      <td>1928</td>\n",
              "    </tr>\n",
              "    <tr>\n",
              "      <th>1</th>\n",
              "      <td>0.994</td>\n",
              "      <td>['Robert Schumann', 'Vladimir Horowitz']</td>\n",
              "      <td>0.379</td>\n",
              "      <td>282133</td>\n",
              "      <td>0.0135</td>\n",
              "      <td>0</td>\n",
              "      <td>6KuQTIu1KoTTkLXKrwlLPV</td>\n",
              "      <td>0.901</td>\n",
              "      <td>8</td>\n",
              "      <td>0.0763</td>\n",
              "      <td>-28.454</td>\n",
              "      <td>1</td>\n",
              "      <td>FantasiestÃ¼cke, Op. 111: PiÃ¹ tosto lento</td>\n",
              "      <td>0</td>\n",
              "      <td>1928</td>\n",
              "      <td>0.0462</td>\n",
              "      <td>83.972</td>\n",
              "      <td>0.0767</td>\n",
              "      <td>1928</td>\n",
              "    </tr>\n",
              "    <tr>\n",
              "      <th>2</th>\n",
              "      <td>0.604</td>\n",
              "      <td>['Seweryn GoszczyÅ„ski']</td>\n",
              "      <td>0.749</td>\n",
              "      <td>104300</td>\n",
              "      <td>0.2200</td>\n",
              "      <td>0</td>\n",
              "      <td>6L63VW0PibdM1HDSBoqnoM</td>\n",
              "      <td>0.000</td>\n",
              "      <td>5</td>\n",
              "      <td>0.1190</td>\n",
              "      <td>-19.924</td>\n",
              "      <td>0</td>\n",
              "      <td>Chapter 1.18 - Zamek kaniowski</td>\n",
              "      <td>0</td>\n",
              "      <td>1928</td>\n",
              "      <td>0.9290</td>\n",
              "      <td>107.177</td>\n",
              "      <td>0.8800</td>\n",
              "      <td>1928</td>\n",
              "    </tr>\n",
              "    <tr>\n",
              "      <th>3</th>\n",
              "      <td>0.995</td>\n",
              "      <td>['Francisco Canaro']</td>\n",
              "      <td>0.781</td>\n",
              "      <td>180760</td>\n",
              "      <td>0.1300</td>\n",
              "      <td>0</td>\n",
              "      <td>6M94FkXd15sOAOQYRnWPN8</td>\n",
              "      <td>0.887</td>\n",
              "      <td>1</td>\n",
              "      <td>0.1110</td>\n",
              "      <td>-14.734</td>\n",
              "      <td>0</td>\n",
              "      <td>Bebamos Juntos - Instrumental (Remasterizado)</td>\n",
              "      <td>0</td>\n",
              "      <td>9/25/1928</td>\n",
              "      <td>0.0926</td>\n",
              "      <td>108.003</td>\n",
              "      <td>0.7200</td>\n",
              "      <td>1928</td>\n",
              "    </tr>\n",
              "    <tr>\n",
              "      <th>4</th>\n",
              "      <td>0.990</td>\n",
              "      <td>['FrÃ©dÃ©ric Chopin', 'Vladimir Horowitz']</td>\n",
              "      <td>0.210</td>\n",
              "      <td>687733</td>\n",
              "      <td>0.2040</td>\n",
              "      <td>0</td>\n",
              "      <td>6N6tiFZ9vLTSOIxkj8qKrd</td>\n",
              "      <td>0.908</td>\n",
              "      <td>11</td>\n",
              "      <td>0.0980</td>\n",
              "      <td>-16.829</td>\n",
              "      <td>1</td>\n",
              "      <td>Polonaise-Fantaisie in A-Flat Major, Op. 61</td>\n",
              "      <td>1</td>\n",
              "      <td>1928</td>\n",
              "      <td>0.0424</td>\n",
              "      <td>62.149</td>\n",
              "      <td>0.0693</td>\n",
              "      <td>1928</td>\n",
              "    </tr>\n",
              "  </tbody>\n",
              "</table>\n",
              "</div>"
            ],
            "text/plain": [
              "   acousticness                                     artists  ...  valence  year\n",
              "0         0.995                         ['Carl Woitschach']  ...   0.7790  1928\n",
              "1         0.994    ['Robert Schumann', 'Vladimir Horowitz']  ...   0.0767  1928\n",
              "2         0.604                    ['Seweryn GoszczyÅ„ski']  ...   0.8800  1928\n",
              "3         0.995                        ['Francisco Canaro']  ...   0.7200  1928\n",
              "4         0.990  ['FrÃ©dÃ©ric Chopin', 'Vladimir Horowitz']  ...   0.0693  1928\n",
              "\n",
              "[5 rows x 19 columns]"
            ]
          },
          "metadata": {
            "tags": []
          },
          "execution_count": 2
        }
      ]
    },
    {
      "cell_type": "code",
      "metadata": {
        "id": "KhwZ79GUgW8y",
        "outputId": "dc0408d3-78a0-4b7c-b698-4b72e96523b0",
        "colab": {
          "base_uri": "https://localhost:8080/",
          "height": 373
        }
      },
      "source": [
        "    \n",
        "def clean_data(df):\n",
        "  '''\n",
        "  a functions that drops columns which either \n",
        "  add bias or noise to dataset \n",
        "\n",
        "  raw text data\n",
        "  ---\n",
        "  input - dataframe object/ndarray\n",
        "  output - dataframe object/ndarray\n",
        "  '''\n",
        "  # bias\n",
        "  df_cleaned = df.drop('artists', axis=1)\n",
        "    # duplicate/triplicate information may disproportantly weight results\n",
        "  df_cleaned = df_cleaned.drop('release_date', axis=1)\n",
        "    # duplicate/triplicate information may disproportantly weight results\n",
        "\n",
        "  # noise\n",
        "  df_cleaned = df_cleaned.drop('id', axis=1)\n",
        "    # has no meaningful contribution to results\n",
        "\n",
        "  # drop rows with missing values\n",
        "  df_cleaned = df_cleaned.dropna()\n",
        "\n",
        "  # cast column(s) to integer dtype\n",
        "  # df_cleaned = df_cleaned.astype({'acousticness': 'int64',\n",
        "  #                                 'danceability': 'int64',\n",
        "  #                                 'energy': 'int64',\n",
        "  #                                 'instrumentalness': 'int64',\n",
        "  #                                 'liveness': 'int64',\n",
        "  #                                 'liveness': 'int64',\n",
        "  #                                 'loudness': 'int64',\n",
        "  #                                 'speechiness': 'int64',\n",
        "  #                                 'tempo': 'int64',\n",
        "  #                                 'valence': 'int64'}).dtypes\n",
        "\n",
        "  return df_cleaned\n",
        "\n",
        "\n",
        "data_cleaned = clean_data(df_raw)\n",
        "print(data_cleaned.shape)\n",
        "data_cleaned.head()"
      ],
      "execution_count": 3,
      "outputs": [
        {
          "output_type": "stream",
          "text": [
            "(169909, 16)\n"
          ],
          "name": "stdout"
        },
        {
          "output_type": "execute_result",
          "data": {
            "text/html": [
              "<div>\n",
              "<style scoped>\n",
              "    .dataframe tbody tr th:only-of-type {\n",
              "        vertical-align: middle;\n",
              "    }\n",
              "\n",
              "    .dataframe tbody tr th {\n",
              "        vertical-align: top;\n",
              "    }\n",
              "\n",
              "    .dataframe thead th {\n",
              "        text-align: right;\n",
              "    }\n",
              "</style>\n",
              "<table border=\"1\" class=\"dataframe\">\n",
              "  <thead>\n",
              "    <tr style=\"text-align: right;\">\n",
              "      <th></th>\n",
              "      <th>acousticness</th>\n",
              "      <th>danceability</th>\n",
              "      <th>duration_ms</th>\n",
              "      <th>energy</th>\n",
              "      <th>explicit</th>\n",
              "      <th>instrumentalness</th>\n",
              "      <th>key</th>\n",
              "      <th>liveness</th>\n",
              "      <th>loudness</th>\n",
              "      <th>mode</th>\n",
              "      <th>name</th>\n",
              "      <th>popularity</th>\n",
              "      <th>speechiness</th>\n",
              "      <th>tempo</th>\n",
              "      <th>valence</th>\n",
              "      <th>year</th>\n",
              "    </tr>\n",
              "  </thead>\n",
              "  <tbody>\n",
              "    <tr>\n",
              "      <th>0</th>\n",
              "      <td>0.995</td>\n",
              "      <td>0.708</td>\n",
              "      <td>158648</td>\n",
              "      <td>0.1950</td>\n",
              "      <td>0</td>\n",
              "      <td>0.563</td>\n",
              "      <td>10</td>\n",
              "      <td>0.1510</td>\n",
              "      <td>-12.428</td>\n",
              "      <td>1</td>\n",
              "      <td>Singende Bataillone 1. Teil</td>\n",
              "      <td>0</td>\n",
              "      <td>0.0506</td>\n",
              "      <td>118.469</td>\n",
              "      <td>0.7790</td>\n",
              "      <td>1928</td>\n",
              "    </tr>\n",
              "    <tr>\n",
              "      <th>1</th>\n",
              "      <td>0.994</td>\n",
              "      <td>0.379</td>\n",
              "      <td>282133</td>\n",
              "      <td>0.0135</td>\n",
              "      <td>0</td>\n",
              "      <td>0.901</td>\n",
              "      <td>8</td>\n",
              "      <td>0.0763</td>\n",
              "      <td>-28.454</td>\n",
              "      <td>1</td>\n",
              "      <td>FantasiestÃ¼cke, Op. 111: PiÃ¹ tosto lento</td>\n",
              "      <td>0</td>\n",
              "      <td>0.0462</td>\n",
              "      <td>83.972</td>\n",
              "      <td>0.0767</td>\n",
              "      <td>1928</td>\n",
              "    </tr>\n",
              "    <tr>\n",
              "      <th>2</th>\n",
              "      <td>0.604</td>\n",
              "      <td>0.749</td>\n",
              "      <td>104300</td>\n",
              "      <td>0.2200</td>\n",
              "      <td>0</td>\n",
              "      <td>0.000</td>\n",
              "      <td>5</td>\n",
              "      <td>0.1190</td>\n",
              "      <td>-19.924</td>\n",
              "      <td>0</td>\n",
              "      <td>Chapter 1.18 - Zamek kaniowski</td>\n",
              "      <td>0</td>\n",
              "      <td>0.9290</td>\n",
              "      <td>107.177</td>\n",
              "      <td>0.8800</td>\n",
              "      <td>1928</td>\n",
              "    </tr>\n",
              "    <tr>\n",
              "      <th>3</th>\n",
              "      <td>0.995</td>\n",
              "      <td>0.781</td>\n",
              "      <td>180760</td>\n",
              "      <td>0.1300</td>\n",
              "      <td>0</td>\n",
              "      <td>0.887</td>\n",
              "      <td>1</td>\n",
              "      <td>0.1110</td>\n",
              "      <td>-14.734</td>\n",
              "      <td>0</td>\n",
              "      <td>Bebamos Juntos - Instrumental (Remasterizado)</td>\n",
              "      <td>0</td>\n",
              "      <td>0.0926</td>\n",
              "      <td>108.003</td>\n",
              "      <td>0.7200</td>\n",
              "      <td>1928</td>\n",
              "    </tr>\n",
              "    <tr>\n",
              "      <th>4</th>\n",
              "      <td>0.990</td>\n",
              "      <td>0.210</td>\n",
              "      <td>687733</td>\n",
              "      <td>0.2040</td>\n",
              "      <td>0</td>\n",
              "      <td>0.908</td>\n",
              "      <td>11</td>\n",
              "      <td>0.0980</td>\n",
              "      <td>-16.829</td>\n",
              "      <td>1</td>\n",
              "      <td>Polonaise-Fantaisie in A-Flat Major, Op. 61</td>\n",
              "      <td>1</td>\n",
              "      <td>0.0424</td>\n",
              "      <td>62.149</td>\n",
              "      <td>0.0693</td>\n",
              "      <td>1928</td>\n",
              "    </tr>\n",
              "  </tbody>\n",
              "</table>\n",
              "</div>"
            ],
            "text/plain": [
              "   acousticness  danceability  duration_ms  ...    tempo  valence  year\n",
              "0         0.995         0.708       158648  ...  118.469   0.7790  1928\n",
              "1         0.994         0.379       282133  ...   83.972   0.0767  1928\n",
              "2         0.604         0.749       104300  ...  107.177   0.8800  1928\n",
              "3         0.995         0.781       180760  ...  108.003   0.7200  1928\n",
              "4         0.990         0.210       687733  ...   62.149   0.0693  1928\n",
              "\n",
              "[5 rows x 16 columns]"
            ]
          },
          "metadata": {
            "tags": []
          },
          "execution_count": 3
        }
      ]
    },
    {
      "cell_type": "code",
      "metadata": {
        "id": "JjZEV6wva7tK"
      },
      "source": [
        "# shuffle dataset to avoid bias\n",
        "num_rows = 169909\n",
        "data_cleaned = data_cleaned.sample(n=num_rows, \n",
        "                                   replace=False,\n",
        "                                   random_state=rs\n",
        "                                   )\n",
        "\n",
        "# reindex \n",
        "data_cleaned = data_cleaned.reset_index(drop=True)\n"
      ],
      "execution_count": 4,
      "outputs": []
    },
    {
      "cell_type": "code",
      "metadata": {
        "id": "I6ohND9elGMh",
        "outputId": "2f0c9f61-98b3-4af3-b656-387532e05ec0",
        "colab": {
          "base_uri": "https://localhost:8080/",
          "height": 355
        }
      },
      "source": [
        "data_cleaned.head()"
      ],
      "execution_count": 5,
      "outputs": [
        {
          "output_type": "execute_result",
          "data": {
            "text/html": [
              "<div>\n",
              "<style scoped>\n",
              "    .dataframe tbody tr th:only-of-type {\n",
              "        vertical-align: middle;\n",
              "    }\n",
              "\n",
              "    .dataframe tbody tr th {\n",
              "        vertical-align: top;\n",
              "    }\n",
              "\n",
              "    .dataframe thead th {\n",
              "        text-align: right;\n",
              "    }\n",
              "</style>\n",
              "<table border=\"1\" class=\"dataframe\">\n",
              "  <thead>\n",
              "    <tr style=\"text-align: right;\">\n",
              "      <th></th>\n",
              "      <th>acousticness</th>\n",
              "      <th>danceability</th>\n",
              "      <th>duration_ms</th>\n",
              "      <th>energy</th>\n",
              "      <th>explicit</th>\n",
              "      <th>instrumentalness</th>\n",
              "      <th>key</th>\n",
              "      <th>liveness</th>\n",
              "      <th>loudness</th>\n",
              "      <th>mode</th>\n",
              "      <th>name</th>\n",
              "      <th>popularity</th>\n",
              "      <th>speechiness</th>\n",
              "      <th>tempo</th>\n",
              "      <th>valence</th>\n",
              "      <th>year</th>\n",
              "    </tr>\n",
              "  </thead>\n",
              "  <tbody>\n",
              "    <tr>\n",
              "      <th>0</th>\n",
              "      <td>0.103</td>\n",
              "      <td>0.799</td>\n",
              "      <td>181267</td>\n",
              "      <td>0.2740</td>\n",
              "      <td>0</td>\n",
              "      <td>0.000031</td>\n",
              "      <td>7</td>\n",
              "      <td>0.0961</td>\n",
              "      <td>-18.148</td>\n",
              "      <td>1</td>\n",
              "      <td>If Not Now...</td>\n",
              "      <td>48</td>\n",
              "      <td>0.0371</td>\n",
              "      <td>108.926</td>\n",
              "      <td>0.530</td>\n",
              "      <td>1988</td>\n",
              "    </tr>\n",
              "    <tr>\n",
              "      <th>1</th>\n",
              "      <td>0.977</td>\n",
              "      <td>0.648</td>\n",
              "      <td>241000</td>\n",
              "      <td>0.0391</td>\n",
              "      <td>0</td>\n",
              "      <td>0.000056</td>\n",
              "      <td>9</td>\n",
              "      <td>0.0917</td>\n",
              "      <td>-22.378</td>\n",
              "      <td>1</td>\n",
              "      <td>I've Got The World On A String</td>\n",
              "      <td>16</td>\n",
              "      <td>0.0372</td>\n",
              "      <td>76.184</td>\n",
              "      <td>0.327</td>\n",
              "      <td>1957</td>\n",
              "    </tr>\n",
              "    <tr>\n",
              "      <th>2</th>\n",
              "      <td>0.983</td>\n",
              "      <td>0.675</td>\n",
              "      <td>95973</td>\n",
              "      <td>0.3660</td>\n",
              "      <td>0</td>\n",
              "      <td>0.000000</td>\n",
              "      <td>7</td>\n",
              "      <td>0.8420</td>\n",
              "      <td>-7.469</td>\n",
              "      <td>1</td>\n",
              "      <td>Mamita Mia - Remastered</td>\n",
              "      <td>2</td>\n",
              "      <td>0.1100</td>\n",
              "      <td>96.558</td>\n",
              "      <td>0.667</td>\n",
              "      <td>1936</td>\n",
              "    </tr>\n",
              "    <tr>\n",
              "      <th>3</th>\n",
              "      <td>0.973</td>\n",
              "      <td>0.293</td>\n",
              "      <td>212480</td>\n",
              "      <td>0.1500</td>\n",
              "      <td>0</td>\n",
              "      <td>0.001090</td>\n",
              "      <td>8</td>\n",
              "      <td>0.1340</td>\n",
              "      <td>-12.880</td>\n",
              "      <td>0</td>\n",
              "      <td>Puccini: Madama Butterfly, Act 2: \"Che tua mad...</td>\n",
              "      <td>13</td>\n",
              "      <td>0.0400</td>\n",
              "      <td>62.904</td>\n",
              "      <td>0.101</td>\n",
              "      <td>1955</td>\n",
              "    </tr>\n",
              "    <tr>\n",
              "      <th>4</th>\n",
              "      <td>0.765</td>\n",
              "      <td>0.560</td>\n",
              "      <td>613040</td>\n",
              "      <td>0.3800</td>\n",
              "      <td>0</td>\n",
              "      <td>0.710000</td>\n",
              "      <td>0</td>\n",
              "      <td>0.0638</td>\n",
              "      <td>-11.762</td>\n",
              "      <td>1</td>\n",
              "      <td>Maui-Waui</td>\n",
              "      <td>34</td>\n",
              "      <td>0.0346</td>\n",
              "      <td>80.698</td>\n",
              "      <td>0.389</td>\n",
              "      <td>1977</td>\n",
              "    </tr>\n",
              "  </tbody>\n",
              "</table>\n",
              "</div>"
            ],
            "text/plain": [
              "   acousticness  danceability  duration_ms  ...    tempo  valence  year\n",
              "0         0.103         0.799       181267  ...  108.926    0.530  1988\n",
              "1         0.977         0.648       241000  ...   76.184    0.327  1957\n",
              "2         0.983         0.675        95973  ...   96.558    0.667  1936\n",
              "3         0.973         0.293       212480  ...   62.904    0.101  1955\n",
              "4         0.765         0.560       613040  ...   80.698    0.389  1977\n",
              "\n",
              "[5 rows x 16 columns]"
            ]
          },
          "metadata": {
            "tags": []
          },
          "execution_count": 5
        }
      ]
    },
    {
      "cell_type": "markdown",
      "metadata": {
        "id": "S1G4G0ATuDCD"
      },
      "source": [
        "#### EDA"
      ]
    },
    {
      "cell_type": "code",
      "metadata": {
        "id": "MpEk7mYruCiz",
        "outputId": "2a2b8d13-185f-4c5e-c4fa-88960e32cefa",
        "colab": {
          "base_uri": "https://localhost:8080/",
          "height": 310
        }
      },
      "source": [
        "data_cleaned.describe()"
      ],
      "execution_count": 6,
      "outputs": [
        {
          "output_type": "execute_result",
          "data": {
            "text/html": [
              "<div>\n",
              "<style scoped>\n",
              "    .dataframe tbody tr th:only-of-type {\n",
              "        vertical-align: middle;\n",
              "    }\n",
              "\n",
              "    .dataframe tbody tr th {\n",
              "        vertical-align: top;\n",
              "    }\n",
              "\n",
              "    .dataframe thead th {\n",
              "        text-align: right;\n",
              "    }\n",
              "</style>\n",
              "<table border=\"1\" class=\"dataframe\">\n",
              "  <thead>\n",
              "    <tr style=\"text-align: right;\">\n",
              "      <th></th>\n",
              "      <th>acousticness</th>\n",
              "      <th>danceability</th>\n",
              "      <th>duration_ms</th>\n",
              "      <th>energy</th>\n",
              "      <th>explicit</th>\n",
              "      <th>instrumentalness</th>\n",
              "      <th>key</th>\n",
              "      <th>liveness</th>\n",
              "      <th>loudness</th>\n",
              "      <th>mode</th>\n",
              "      <th>popularity</th>\n",
              "      <th>speechiness</th>\n",
              "      <th>tempo</th>\n",
              "      <th>valence</th>\n",
              "      <th>year</th>\n",
              "    </tr>\n",
              "  </thead>\n",
              "  <tbody>\n",
              "    <tr>\n",
              "      <th>count</th>\n",
              "      <td>169909.000000</td>\n",
              "      <td>169909.000000</td>\n",
              "      <td>1.699090e+05</td>\n",
              "      <td>169909.000000</td>\n",
              "      <td>169909.000000</td>\n",
              "      <td>169909.000000</td>\n",
              "      <td>169909.000000</td>\n",
              "      <td>169909.000000</td>\n",
              "      <td>169909.000000</td>\n",
              "      <td>169909.000000</td>\n",
              "      <td>169909.000000</td>\n",
              "      <td>169909.000000</td>\n",
              "      <td>169909.000000</td>\n",
              "      <td>169909.000000</td>\n",
              "      <td>169909.000000</td>\n",
              "    </tr>\n",
              "    <tr>\n",
              "      <th>mean</th>\n",
              "      <td>0.493214</td>\n",
              "      <td>0.538150</td>\n",
              "      <td>2.314062e+05</td>\n",
              "      <td>0.488593</td>\n",
              "      <td>0.084863</td>\n",
              "      <td>0.161937</td>\n",
              "      <td>5.200519</td>\n",
              "      <td>0.206690</td>\n",
              "      <td>-11.370289</td>\n",
              "      <td>0.708556</td>\n",
              "      <td>31.556610</td>\n",
              "      <td>0.094058</td>\n",
              "      <td>116.948017</td>\n",
              "      <td>0.532095</td>\n",
              "      <td>1977.223231</td>\n",
              "    </tr>\n",
              "    <tr>\n",
              "      <th>std</th>\n",
              "      <td>0.376627</td>\n",
              "      <td>0.175346</td>\n",
              "      <td>1.213219e+05</td>\n",
              "      <td>0.267390</td>\n",
              "      <td>0.278679</td>\n",
              "      <td>0.309329</td>\n",
              "      <td>3.515257</td>\n",
              "      <td>0.176796</td>\n",
              "      <td>5.666765</td>\n",
              "      <td>0.454429</td>\n",
              "      <td>21.582614</td>\n",
              "      <td>0.149937</td>\n",
              "      <td>30.726937</td>\n",
              "      <td>0.262408</td>\n",
              "      <td>25.593168</td>\n",
              "    </tr>\n",
              "    <tr>\n",
              "      <th>min</th>\n",
              "      <td>0.000000</td>\n",
              "      <td>0.000000</td>\n",
              "      <td>5.108000e+03</td>\n",
              "      <td>0.000000</td>\n",
              "      <td>0.000000</td>\n",
              "      <td>0.000000</td>\n",
              "      <td>0.000000</td>\n",
              "      <td>0.000000</td>\n",
              "      <td>-60.000000</td>\n",
              "      <td>0.000000</td>\n",
              "      <td>0.000000</td>\n",
              "      <td>0.000000</td>\n",
              "      <td>0.000000</td>\n",
              "      <td>0.000000</td>\n",
              "      <td>1921.000000</td>\n",
              "    </tr>\n",
              "    <tr>\n",
              "      <th>25%</th>\n",
              "      <td>0.094500</td>\n",
              "      <td>0.417000</td>\n",
              "      <td>1.710400e+05</td>\n",
              "      <td>0.263000</td>\n",
              "      <td>0.000000</td>\n",
              "      <td>0.000000</td>\n",
              "      <td>2.000000</td>\n",
              "      <td>0.098400</td>\n",
              "      <td>-14.470000</td>\n",
              "      <td>0.000000</td>\n",
              "      <td>12.000000</td>\n",
              "      <td>0.034900</td>\n",
              "      <td>93.516000</td>\n",
              "      <td>0.322000</td>\n",
              "      <td>1957.000000</td>\n",
              "    </tr>\n",
              "    <tr>\n",
              "      <th>50%</th>\n",
              "      <td>0.492000</td>\n",
              "      <td>0.548000</td>\n",
              "      <td>2.086000e+05</td>\n",
              "      <td>0.481000</td>\n",
              "      <td>0.000000</td>\n",
              "      <td>0.000204</td>\n",
              "      <td>5.000000</td>\n",
              "      <td>0.135000</td>\n",
              "      <td>-10.474000</td>\n",
              "      <td>1.000000</td>\n",
              "      <td>33.000000</td>\n",
              "      <td>0.045000</td>\n",
              "      <td>114.778000</td>\n",
              "      <td>0.544000</td>\n",
              "      <td>1978.000000</td>\n",
              "    </tr>\n",
              "    <tr>\n",
              "      <th>75%</th>\n",
              "      <td>0.888000</td>\n",
              "      <td>0.667000</td>\n",
              "      <td>2.629600e+05</td>\n",
              "      <td>0.710000</td>\n",
              "      <td>0.000000</td>\n",
              "      <td>0.086800</td>\n",
              "      <td>8.000000</td>\n",
              "      <td>0.263000</td>\n",
              "      <td>-7.118000</td>\n",
              "      <td>1.000000</td>\n",
              "      <td>48.000000</td>\n",
              "      <td>0.075400</td>\n",
              "      <td>135.712000</td>\n",
              "      <td>0.749000</td>\n",
              "      <td>1999.000000</td>\n",
              "    </tr>\n",
              "    <tr>\n",
              "      <th>max</th>\n",
              "      <td>0.996000</td>\n",
              "      <td>0.988000</td>\n",
              "      <td>5.403500e+06</td>\n",
              "      <td>1.000000</td>\n",
              "      <td>1.000000</td>\n",
              "      <td>1.000000</td>\n",
              "      <td>11.000000</td>\n",
              "      <td>1.000000</td>\n",
              "      <td>3.855000</td>\n",
              "      <td>1.000000</td>\n",
              "      <td>100.000000</td>\n",
              "      <td>0.969000</td>\n",
              "      <td>244.091000</td>\n",
              "      <td>1.000000</td>\n",
              "      <td>2020.000000</td>\n",
              "    </tr>\n",
              "  </tbody>\n",
              "</table>\n",
              "</div>"
            ],
            "text/plain": [
              "        acousticness   danceability  ...        valence           year\n",
              "count  169909.000000  169909.000000  ...  169909.000000  169909.000000\n",
              "mean        0.493214       0.538150  ...       0.532095    1977.223231\n",
              "std         0.376627       0.175346  ...       0.262408      25.593168\n",
              "min         0.000000       0.000000  ...       0.000000    1921.000000\n",
              "25%         0.094500       0.417000  ...       0.322000    1957.000000\n",
              "50%         0.492000       0.548000  ...       0.544000    1978.000000\n",
              "75%         0.888000       0.667000  ...       0.749000    1999.000000\n",
              "max         0.996000       0.988000  ...       1.000000    2020.000000\n",
              "\n",
              "[8 rows x 15 columns]"
            ]
          },
          "metadata": {
            "tags": []
          },
          "execution_count": 6
        }
      ]
    },
    {
      "cell_type": "code",
      "metadata": {
        "id": "yI2gvcYYuuvg",
        "outputId": "e1287650-2e43-4a1b-80e0-ad67261ba20a",
        "colab": {
          "base_uri": "https://localhost:8080/",
          "height": 169
        }
      },
      "source": [
        "data_cleaned.describe(exclude='number')"
      ],
      "execution_count": 7,
      "outputs": [
        {
          "output_type": "execute_result",
          "data": {
            "text/html": [
              "<div>\n",
              "<style scoped>\n",
              "    .dataframe tbody tr th:only-of-type {\n",
              "        vertical-align: middle;\n",
              "    }\n",
              "\n",
              "    .dataframe tbody tr th {\n",
              "        vertical-align: top;\n",
              "    }\n",
              "\n",
              "    .dataframe thead th {\n",
              "        text-align: right;\n",
              "    }\n",
              "</style>\n",
              "<table border=\"1\" class=\"dataframe\">\n",
              "  <thead>\n",
              "    <tr style=\"text-align: right;\">\n",
              "      <th></th>\n",
              "      <th>name</th>\n",
              "    </tr>\n",
              "  </thead>\n",
              "  <tbody>\n",
              "    <tr>\n",
              "      <th>count</th>\n",
              "      <td>169909</td>\n",
              "    </tr>\n",
              "    <tr>\n",
              "      <th>unique</th>\n",
              "      <td>132939</td>\n",
              "    </tr>\n",
              "    <tr>\n",
              "      <th>top</th>\n",
              "      <td>Summertime</td>\n",
              "    </tr>\n",
              "    <tr>\n",
              "      <th>freq</th>\n",
              "      <td>62</td>\n",
              "    </tr>\n",
              "  </tbody>\n",
              "</table>\n",
              "</div>"
            ],
            "text/plain": [
              "              name\n",
              "count       169909\n",
              "unique      132939\n",
              "top     Summertime\n",
              "freq            62"
            ]
          },
          "metadata": {
            "tags": []
          },
          "execution_count": 7
        }
      ]
    },
    {
      "cell_type": "code",
      "metadata": {
        "id": "3E44IB4H5fPO",
        "outputId": "79fc67ac-619c-4c72-8b2f-0d80241c52dc",
        "colab": {
          "base_uri": "https://localhost:8080/"
        }
      },
      "source": [
        "data_cleaned.info()"
      ],
      "execution_count": 8,
      "outputs": [
        {
          "output_type": "stream",
          "text": [
            "<class 'pandas.core.frame.DataFrame'>\n",
            "RangeIndex: 169909 entries, 0 to 169908\n",
            "Data columns (total 16 columns):\n",
            " #   Column            Non-Null Count   Dtype  \n",
            "---  ------            --------------   -----  \n",
            " 0   acousticness      169909 non-null  float64\n",
            " 1   danceability      169909 non-null  float64\n",
            " 2   duration_ms       169909 non-null  int64  \n",
            " 3   energy            169909 non-null  float64\n",
            " 4   explicit          169909 non-null  int64  \n",
            " 5   instrumentalness  169909 non-null  float64\n",
            " 6   key               169909 non-null  int64  \n",
            " 7   liveness          169909 non-null  float64\n",
            " 8   loudness          169909 non-null  float64\n",
            " 9   mode              169909 non-null  int64  \n",
            " 10  name              169909 non-null  object \n",
            " 11  popularity        169909 non-null  int64  \n",
            " 12  speechiness       169909 non-null  float64\n",
            " 13  tempo             169909 non-null  float64\n",
            " 14  valence           169909 non-null  float64\n",
            " 15  year              169909 non-null  int64  \n",
            "dtypes: float64(9), int64(6), object(1)\n",
            "memory usage: 20.7+ MB\n"
          ],
          "name": "stdout"
        }
      ]
    },
    {
      "cell_type": "code",
      "metadata": {
        "id": "y2CaowZ62E-j",
        "outputId": "79d89aad-3ae0-4ae1-e094-fab28646c047",
        "colab": {
          "base_uri": "https://localhost:8080/",
          "height": 231
        }
      },
      "source": [
        "# scatter plot of features as they relate to sampling of individual songs\n",
        "# features within the -25 to 0 range\n",
        "plt.scatter(data_cleaned['loudness'][:20], data_cleaned['name'][:20], c='navy')\n",
        "plt.show()\n"
      ],
      "execution_count": 9,
      "outputs": [
        {
          "output_type": "display_data",
          "data": {
            "image/png": "[encoded data removed]",
            "text/plain": [
              "<Figure size 432x288 with 1 Axes>"
            ]
          },
          "metadata": {
            "tags": [],
            "needs_background": "light"
          }
        }
      ]
    },
    {
      "cell_type": "code",
      "metadata": {
        "id": "rI7LTGnkwS1R",
        "outputId": "5b3265c7-7a20-4390-ada4-23f76fd389d6",
        "colab": {
          "base_uri": "https://localhost:8080/",
          "height": 233
        }
      },
      "source": [
        "# features within the 0-1 range\n",
        "plt.scatter(data_cleaned['acousticness'][:20], data_cleaned['name'][:20], c='red')\n",
        "plt.scatter(data_cleaned['danceability'][:20], data_cleaned['name'][:20], c='blue')\n",
        "plt.scatter(data_cleaned['energy'][:20], data_cleaned['name'][:20], c='orange')\n",
        "plt.scatter(data_cleaned['liveness'][:20], data_cleaned['name'][:20], c='lightgreen')\n",
        "plt.scatter(data_cleaned['valence'][:20], data_cleaned['name'][:20], c='tomato')\n",
        "\n",
        "plt.show()"
      ],
      "execution_count": 10,
      "outputs": [
        {
          "output_type": "display_data",
          "data": {
            "image/png": "[encoded data removed]",
            "text/plain": [
              "<Figure size 432x288 with 1 Axes>"
            ]
          },
          "metadata": {
            "tags": [],
            "needs_background": "light"
          }
        }
      ]
    },
    {
      "cell_type": "code",
      "metadata": {
        "id": "qgTY05hf00xN",
        "outputId": "5a325e70-4919-41a9-c02a-a45deaf3c38a",
        "colab": {
          "base_uri": "https://localhost:8080/",
          "height": 233
        }
      },
      "source": [
        "# features that may have some correlation\n",
        "plt.scatter(data_cleaned['instrumentalness'][:20], data_cleaned['name'][:20], c='pink')\n",
        "plt.scatter(data_cleaned['speechiness'][:20], data_cleaned['name'][:20], c='plum')\n",
        "plt.show()"
      ],
      "execution_count": 11,
      "outputs": [
        {
          "output_type": "display_data",
          "data": {
            "image/png": "[encoded data removed]",
            "text/plain": [
              "<Figure size 432x288 with 1 Axes>"
            ]
          },
          "metadata": {
            "tags": [],
            "needs_background": "light"
          }
        }
      ]
    },
    {
      "cell_type": "code",
      "metadata": {
        "id": "l3rmY6XN0fI4",
        "outputId": "45ddb8b0-0162-437f-f7da-98e1211f622b",
        "colab": {
          "base_uri": "https://localhost:8080/",
          "height": 233
        }
      },
      "source": [
        "# boolean values\n",
        "plt.scatter(data_cleaned['explicit'][:20], data_cleaned['name'][:20], c='yellow')\n",
        "plt.scatter(data_cleaned['mode'][:20], data_cleaned['name'][:20], c='peachpuff')\n",
        "plt.show()"
      ],
      "execution_count": 12,
      "outputs": [
        {
          "output_type": "display_data",
          "data": {
            "image/png": "[encoded data removed]",
            "text/plain": [
              "<Figure size 432x288 with 1 Axes>"
            ]
          },
          "metadata": {
            "tags": [],
            "needs_background": "light"
          }
        }
      ]
    },
    {
      "cell_type": "code",
      "metadata": {
        "id": "yOSAyaDf1zPw",
        "outputId": "c0bbfaf4-1d5c-4d70-de0b-d16a3fb23bc9",
        "colab": {
          "base_uri": "https://localhost:8080/",
          "height": 233
        }
      },
      "source": [
        "# features within the 1 - 11 range\n",
        "plt.scatter(data_cleaned['key'][:20], data_cleaned['name'][:20], c='gray')\n",
        "plt.show()"
      ],
      "execution_count": 13,
      "outputs": [
        {
          "output_type": "display_data",
          "data": {
            "image/png": "[encoded data removed]",
            "text/plain": [
              "<Figure size 432x288 with 1 Axes>"
            ]
          },
          "metadata": {
            "tags": [],
            "needs_background": "light"
          }
        }
      ]
    },
    {
      "cell_type": "code",
      "metadata": {
        "id": "jKp9Y5mD2xM-",
        "outputId": "661b0850-9b44-43af-8422-0e5ce126f081",
        "colab": {
          "base_uri": "https://localhost:8080/",
          "height": 232
        }
      },
      "source": [
        "# features within the 70 - 170 range\n",
        "plt.scatter(data_cleaned['tempo'][:20], data_cleaned['name'][:20], c='goldenrod')\n",
        "plt.show()"
      ],
      "execution_count": 14,
      "outputs": [
        {
          "output_type": "display_data",
          "data": {
            "image/png": "[encoded data removed]",
            "text/plain": [
              "<Figure size 432x288 with 1 Axes>"
            ]
          },
          "metadata": {
            "tags": [],
            "needs_background": "light"
          }
        }
      ]
    },
    {
      "cell_type": "code",
      "metadata": {
        "id": "uyT4-ayP29xW",
        "outputId": "952ad571-c9c2-4175-c145-26ec9356d6f3",
        "colab": {
          "base_uri": "https://localhost:8080/",
          "height": 231
        }
      },
      "source": [
        "# features within years 1921 - 2020 \n",
        "plt.scatter(data_cleaned['year'][:20], data_cleaned['name'][:20], c='blueviolet')\n",
        "plt.show()"
      ],
      "execution_count": 15,
      "outputs": [
        {
          "output_type": "display_data",
          "data": {
            "image/png": "[encoded data removed]",
            "text/plain": [
              "<Figure size 432x288 with 1 Axes>"
            ]
          },
          "metadata": {
            "tags": [],
            "needs_background": "light"
          }
        }
      ]
    },
    {
      "cell_type": "code",
      "metadata": {
        "id": "xBuvRHVj1ko2",
        "outputId": "6d61374a-1886-4b96-9600-4cf8f525beb8",
        "colab": {
          "base_uri": "https://localhost:8080/",
          "height": 265
        }
      },
      "source": [
        "# features within the 200000 - 800000 range\n",
        "plt.scatter(data_cleaned['duration_ms'][:20], data_cleaned['name'][:20], c='green')\n",
        "plt.show()"
      ],
      "execution_count": 16,
      "outputs": [
        {
          "output_type": "display_data",
          "data": {
            "image/png": "[encoded data removed]",
            "text/plain": [
              "<Figure size 432x288 with 1 Axes>"
            ]
          },
          "metadata": {
            "tags": [],
            "needs_background": "light"
          }
        }
      ]
    },
    {
      "cell_type": "markdown",
      "metadata": {
        "id": "d4ppl106Lmgg"
      },
      "source": [
        "## Additional preproccessing of data\n",
        "Pipeline 1 - (instantiate, fit_transform)\n",
        "\n",
        "\n",
        "*   StandardScaler\n",
        "\n",
        "Pipeline 2a, 2b, 2c, and 2d - (instantiate, fit, predict)\n",
        "\n",
        "2a:\n",
        "*   K-NN - (exploring in isolation for similiarity clustering efficienies)\n",
        "\n",
        "2b:\n",
        "\n",
        "*   K-NN - (exploring for similiarity clustering efficienies)\n",
        "*   PCA - (exploring for efficiency boost not dimensionality reduction b/c this is not needed; already done by limiting features)\n",
        "\n",
        "\n",
        "2c:\n",
        "*   K-NN - (exploring for similiarity clustering efficienies)\n",
        "*   t_SNE - (exploring for additional efficiencies in dimensionality reduction)\n",
        "\n",
        "2d:\n",
        "*   t_SNE - (exploring in isolation for efficiencies in dimensionality reduction)\n"
      ]
    },
    {
      "cell_type": "markdown",
      "metadata": {
        "id": "uN4WmSbp-rfL"
      },
      "source": [
        "#### Pipeline 1\n",
        "*   StandardScaler"
      ]
    },
    {
      "cell_type": "code",
      "metadata": {
        "id": "NCc1AeXicUcv"
      },
      "source": [
        "# create feature matrix\n",
        "X = data_cleaned.drop('name', axis=1)\n",
        "y = data_cleaned['name']\n",
        "\n"
      ],
      "execution_count": 17,
      "outputs": []
    },
    {
      "cell_type": "code",
      "metadata": {
        "id": "y50QQ-LNzBRj",
        "outputId": "a0ed8f68-3f23-4646-900e-c8f96ad65d16",
        "colab": {
          "base_uri": "https://localhost:8080/"
        }
      },
      "source": [
        "# normalize standardize data using pipeline (instantiate, fit, transform)\n",
        "# onehotender, ordinal encoder, standard scaler in order\n",
        "\n",
        "# instantiate pipeline\n",
        "pipe_1 = Pipeline([\n",
        "                 #('onehotencoder', OneHotEncoder()), \n",
        "                 #('ordinalencoder', OrdinalEncoder()), \n",
        "                 ('scaler', StandardScaler()), \n",
        "                 ])\n",
        "\n",
        "# fit data to transformer and transform data\n",
        "pipe_1.fit_transform(X, y=None)\n",
        "\n",
        "\n",
        "#  check data\n",
        "print(X.shape)\n",
        "print(y.shape)\n"
      ],
      "execution_count": 18,
      "outputs": [
        {
          "output_type": "stream",
          "text": [
            "(169909, 15)\n",
            "(169909,)\n"
          ],
          "name": "stdout"
        }
      ]
    },
    {
      "cell_type": "code",
      "metadata": {
        "id": "BHfXdgl6LnA5",
        "outputId": "b3c62ca2-3d5a-4d8e-cefd-22bee5a24156",
        "colab": {
          "base_uri": "https://localhost:8080/"
        }
      },
      "source": [
        "# split data - train/test split\n",
        "X_train, X_test, y_train, y_test = train_test_split(X, y, \n",
        "                                                    test_size=0.20, \n",
        "                                                    random_state=42\n",
        "                                                    )\n",
        "\n",
        "# X_arr = np.asarray(X)\n",
        "# y_arr = np.asarray(y)\n",
        "\n",
        "\n",
        "# # split data - train/test split\n",
        "# X_train, X_test, y_train, y_test = train_test_split(X_arr, y_arr, \n",
        "#                                                     test_size=0.20, \n",
        "#                                                     random_state=42\n",
        "#                                                     )\n",
        "\n",
        "# check data\n",
        "print(X_train.shape)\n",
        "print(y_train.shape)\n",
        "print(X_test.shape)\n",
        "print(y_test.shape)"
      ],
      "execution_count": 19,
      "outputs": [
        {
          "output_type": "stream",
          "text": [
            "(135927, 15)\n",
            "(135927,)\n",
            "(33982, 15)\n",
            "(33982,)\n"
          ],
          "name": "stdout"
        }
      ]
    },
    {
      "cell_type": "markdown",
      "metadata": {
        "id": "chx4RAkO-wbv"
      },
      "source": [
        "#### Pipeline *2a*\n",
        "2a:\n",
        "\n",
        "K-NN - (exploring in isolation for similiarity clustering efficienies)"
      ]
    },
    {
      "cell_type": "code",
      "metadata": {
        "id": "XPAn39Vt3cAX"
      },
      "source": [
        "# hyperparameters for piplines\n",
        "# K-NN estimator\n",
        "n_neigh = 25\n",
        "  # must be an interger or will throw an error\n",
        "alg = 'ball_tree'\n",
        "\n",
        "#TFIDF Vectorizer\n",
        "max_df=5\n",
        "max_fea=10000\n",
        "min_df=1\n",
        "st_wds='english'\n",
        "use_idf=True\n",
        "\n",
        "# SVD\n",
        "n_comp=14\n",
        "  # must be an integer\n",
        "_alg='arpack'\n",
        "  # as an eigensolver for greater efficiency while maintaining accuracy when interacing with Spotify API\n",
        "  # can switch to 'randomized' for greater efficiency if needed\n",
        "\n",
        "# KMeans\n",
        "n_clus=10\n",
        "init='k-means++'\n",
        "max_iter=100\n",
        "n_init=1\n",
        "verbose=2\n",
        "\n",
        "\n"
      ],
      "execution_count": 20,
      "outputs": []
    },
    {
      "cell_type": "code",
      "metadata": {
        "id": "mtV4JomQ-0V1",
        "outputId": "26e0eac5-57c2-4c9c-cdfb-f318055d48a2",
        "colab": {
          "base_uri": "https://localhost:8080/"
        }
      },
      "source": [
        "# instantiate model\n",
        "nbrs = NearestNeighbors(n_neighbors=n_neigh, \n",
        "                 algorithm=alg)\n",
        "\n",
        "# fit data\n",
        "nbrs = nbrs.fit(X_train)\n",
        "\n",
        "\n",
        "# check data\n",
        "print(X_train.shape)\n",
        "print(y_train.shape)\n",
        "print(X_test.shape)\n",
        "print(y_test.shape)\n"
      ],
      "execution_count": 21,
      "outputs": [
        {
          "output_type": "stream",
          "text": [
            "(135927, 15)\n",
            "(135927,)\n",
            "(33982, 15)\n",
            "(33982,)\n"
          ],
          "name": "stdout"
        }
      ]
    },
    {
      "cell_type": "code",
      "metadata": {
        "id": "j7fOdS1qDT9v"
      },
      "source": [
        "#dir(nbrs)"
      ],
      "execution_count": 22,
      "outputs": []
    },
    {
      "cell_type": "markdown",
      "metadata": {
        "id": "o298AkdJ-zzV"
      },
      "source": [
        "#### Pipeline *2b*\n",
        "2b:\n",
        "\n",
        "Tfidf - (vectorizer)\n",
        "\n",
        "t-SVD - (exploring for efficiency boost not dimensionality reduction b/c this is not needed; already done by limiting features)\n",
        "\n",
        "KMeans - (exploring similarities through clustering)"
      ]
    },
    {
      "cell_type": "code",
      "metadata": {
        "id": "40sPWILM-28H",
        "outputId": "25c237a8-ae86-47cb-ab6d-e0dfcd37a32b",
        "colab": {
          "base_uri": "https://localhost:8080/"
        }
      },
      "source": [
        "# instantiate pipeline\n",
        "pipe_2b = Pipeline([\n",
        "                 ('tfidf', TfidfVectorizer(max_df=max_df, \n",
        "                                           max_features=max_fea,\n",
        "                                           min_df=min_df,\n",
        "                                           stop_words=st_wds,\n",
        "                                           use_idf=True)\n",
        "                 ),\n",
        "                 ('svd', TruncatedSVD(n_components=n_comp,\n",
        "                             algorithm=_alg)\n",
        "                 ),\n",
        "                 ('km', KMeans(n_clusters=n_clus,\n",
        "                                   init=init,\n",
        "                                   max_iter=max_iter,\n",
        "                                   n_init=n_init,\n",
        "                                   verbose=verbose)\n",
        "                 ), \n",
        "                 ])\n",
        "\n",
        "# fit data to transformer and transform data\n",
        "km = pipe_2b.fit(X_train)\n",
        "\n",
        "\n",
        "# check data\n",
        "print()\n",
        "print(X_train.shape)\n",
        "print(y_train.shape)\n",
        "print(X_test.shape)\n",
        "print(y_test.shape)"
      ],
      "execution_count": 23,
      "outputs": [
        {
          "output_type": "stream",
          "text": [
            "Initialization complete\n",
            "start iteration\n",
            "done sorting\n",
            "end inner loop\n",
            "Iteration 0, inertia 4.304761415934\n",
            "start iteration\n",
            "done sorting\n",
            "end inner loop\n",
            "Iteration 1, inertia 4.304761415934\n",
            "center shift 0.000000e+00 within tolerance 6.199908e-06\n",
            "\n",
            "(135927, 15)\n",
            "(135927,)\n",
            "(33982, 15)\n",
            "(33982,)\n"
          ],
          "name": "stdout"
        }
      ]
    },
    {
      "cell_type": "code",
      "metadata": {
        "id": "totjPFeA-57b"
      },
      "source": [
        ""
      ],
      "execution_count": 23,
      "outputs": []
    },
    {
      "cell_type": "markdown",
      "metadata": {
        "id": "UwipvKhWMm0l"
      },
      "source": [
        "#### Pipeline *2c*\n",
        "2c:\n",
        "\n",
        "K-NN - (exploring for similiarity clustering efficienies)\n",
        "\n",
        "t_SNE - (exploring for additional efficiencies in dimensionality reduction)"
      ]
    },
    {
      "cell_type": "code",
      "metadata": {
        "id": "zMvuBQ8jMndl"
      },
      "source": [
        ""
      ],
      "execution_count": 23,
      "outputs": []
    },
    {
      "cell_type": "code",
      "metadata": {
        "id": "ChwHlQ9YMn58"
      },
      "source": [
        ""
      ],
      "execution_count": 23,
      "outputs": []
    },
    {
      "cell_type": "markdown",
      "metadata": {
        "id": "NUKhkr5iMoSs"
      },
      "source": [
        "#### Pipeline *2d*\n",
        "2d:\n",
        "\n",
        "t_SNE - (exploring for additional efficiencies in dimensionality reduction)"
      ]
    },
    {
      "cell_type": "code",
      "metadata": {
        "id": "4BOP0J5AMot3"
      },
      "source": [
        ""
      ],
      "execution_count": 23,
      "outputs": []
    },
    {
      "cell_type": "code",
      "metadata": {
        "id": "kqinIt4_Mo9Q"
      },
      "source": [
        ""
      ],
      "execution_count": 23,
      "outputs": []
    },
    {
      "cell_type": "markdown",
      "metadata": {
        "id": "hTtXVJRQLnYu"
      },
      "source": [
        "## Neural Network model(s) \n",
        "NN 1 - (instantiate, compile, fit)\n",
        "*   CNN\n",
        "\n",
        "> Indented block\n",
        "\n",
        "\n",
        "\n",
        "NN 2 - (instantiate, compile, fit)\n",
        "*   LSTM\n",
        "\n",
        "NN 3 - (instantiate, compile, fit)\n",
        "*   RNN (deep and wide)"
      ]
    },
    {
      "cell_type": "markdown",
      "metadata": {
        "id": "AKQAU1fxQL3w"
      },
      "source": [
        "#### NN 1 - (instantiate, compile, fit)\n",
        "\n",
        "CNN"
      ]
    },
    {
      "cell_type": "code",
      "metadata": {
        "id": "ENLaByJIQpX4"
      },
      "source": [
        "# define and tune hyperparameters within NN\n",
        "# CNN\n",
        "batch_size = 32\n",
        "epochs = 5\n",
        "\n",
        "\n",
        "# LSTM layer(s)\n",
        "units_lstm = len(np.unique(y_train)) * .75\n",
        "units_lstm = units_lstm.is_integer()\n",
        "do = 0.2\n",
        "\n",
        "# Embedding layer\n",
        "max_feat = 10000\n",
        "units_em = len(np.unique(y_train)) * .75\n",
        "units_em = units_em.is_integer()\n",
        "\n",
        "# Dense hidden layer(s)\n",
        "act_hid = 'relu'\n",
        "\n",
        "# Dense output layer\n",
        "units_out = len(np.unique(y_train))\n",
        "act_out = 'softmax'\n",
        "  # for use with multiclass\n",
        "\n",
        "# general use\n",
        "maxlen = 80\n",
        "shape = X_train.shape[1]\n",
        "\n",
        "# compile and fit\n",
        "loss='sparse_categorical_crossentropy'\n",
        "batch_sz = 32\n",
        "opt = 'nadam'\n",
        "metric='accuracy'\n",
        "\n",
        "X_train = np.array([np.expand_dims(x_, 1) for x_ in X_train.values])\n",
        "X_test = np.array([np.expand_dims(x_, 1) for x_ in X_test.values])"
      ],
      "execution_count": 26,
      "outputs": []
    },
    {
      "cell_type": "code",
      "metadata": {
        "id": "KkH1einZLoL3"
      },
      "source": [
        "# check data\n",
        "print()\n",
        "print(X_train.shape)\n",
        "print(y_train.shape)\n",
        "print(X_test.shape)\n",
        "print(y_test.shape)"
      ],
      "execution_count": 23,
      "outputs": []
    },
    {
      "cell_type": "code",
      "metadata": {
        "id": "21nj1GYPDjIR"
      },
      "source": [
        "# of lables in output layer\n",
        "len(np.unique(y_train))"
      ],
      "execution_count": null,
      "outputs": []
    },
    {
      "cell_type": "code",
      "metadata": {
        "id": "zNmzjdZmDjLc"
      },
      "source": [
        "# Setup Architecture\n",
        "\n",
        "# instantiate model\n",
        "model = Sequential()\n",
        "\n",
        "# -- preprocessing portion of CNN network --\n",
        "\n",
        "# hidden pre-processing layer 1 with implicit input layer\n",
        "# creates feature map\n",
        "# activation function used to produce updated weights (allows backpropegation)\n",
        "model.add(Conv2D(32, (3,3), activation='relu', input_shape=(32,32, 15)))\n",
        "\n",
        "# hidden preprocessing layer 2\n",
        "# subsample values\n",
        "model.add(MaxPooling2D((2,2)))\n",
        "\n",
        "# hidden preprocessing layer 3\n",
        "# creates feature map\n",
        "# activation function used to produce updated weights (allows backpropegation)\n",
        "model.add(Conv2D(64, (3,3), activation='relu'))\n",
        "\n",
        "# hidden preprocessing layer 4\n",
        "# subsample values\n",
        "model.add(MaxPooling2D((2,2)))\n",
        "\n",
        "# hidden preporocessing layer 5\n",
        "# creates feature map\n",
        "# activation function used to produce updated weights (allows backpropegation)\n",
        "model.add(Conv2D(64, (3,3), activation='relu'))\n",
        "\n",
        "# hidden preporcessing layer 6\n",
        "# standardiztion/normalization \n",
        "model.add(GlobalAveragePooling2D())\n",
        "  # a Fancy version of Flatten with subsample values\n",
        "\n",
        "# -- fully connected portion of CNN network --\n",
        "\n",
        "# hidden layer 7\n",
        "model.add(Dense(64, activation='relu'))\n",
        "\n",
        "# output layer 8\n",
        "model.add(Dense(10, activation='softmax'))\n",
        "\n",
        "model.summary()"
      ],
      "execution_count": null,
      "outputs": []
    },
    {
      "cell_type": "code",
      "metadata": {
        "id": "sX44kzpvDjfj"
      },
      "source": [
        "# Compile Model\n",
        "\n",
        "model.compile(optimizer='adam',\n",
        "              loss='sparse_categorical_crossentropy',\n",
        "              metrics=['accuracy'])"
      ],
      "execution_count": null,
      "outputs": []
    },
    {
      "cell_type": "code",
      "metadata": {
        "id": "xBMv04p0Djbo"
      },
      "source": [
        "results = model.fit(\n",
        "    train_data_gen,\n",
        "    steps_per_epoch=total_train // batch_size,\n",
        "    epochs=epochs,\n",
        "    validation_data=val_data_gen,\n",
        "    validation_steps=total_val // batch_size\n",
        ")"
      ],
      "execution_count": null,
      "outputs": []
    },
    {
      "cell_type": "code",
      "metadata": {
        "id": "_msFkFGuDjFV"
      },
      "source": [
        ""
      ],
      "execution_count": null,
      "outputs": []
    },
    {
      "cell_type": "markdown",
      "metadata": {
        "id": "_7TipkBKQMu7"
      },
      "source": [
        "#### NN 2 - (instantiate, compile, fit)\n",
        "\n",
        "LSTM"
      ]
    },
    {
      "cell_type": "code",
      "metadata": {
        "id": "jNCOUh09i_0R"
      },
      "source": [
        "# check data\n",
        "print()\n",
        "print(X_train.shape)\n",
        "print(y_train.shape)\n",
        "print(X_test.shape)\n",
        "print(y_test.shape)"
      ],
      "execution_count": null,
      "outputs": []
    },
    {
      "cell_type": "code",
      "metadata": {
        "id": "LWXWGmGcUNSM",
        "outputId": "8da7af4d-59ac-4ba5-da15-a4e8dc03e8ca",
        "colab": {
          "base_uri": "https://localhost:8080/"
        }
      },
      "source": [
        "# of lables in output layer\n",
        "len(np.unique(y_train))"
      ],
      "execution_count": 25,
      "outputs": [
        {
          "output_type": "execute_result",
          "data": {
            "text/plain": [
              "109700"
            ]
          },
          "metadata": {
            "tags": []
          },
          "execution_count": 25
        }
      ]
    },
    {
      "cell_type": "code",
      "metadata": {
        "id": "Bsz4qeki5Vgp"
      },
      "source": [
        "## TODO...tokenize lemmas"
      ],
      "execution_count": null,
      "outputs": []
    },
    {
      "cell_type": "code",
      "metadata": {
        "id": "GOFmiLAsQNn1"
      },
      "source": [
        "# instantiating a Sequential class \n",
        "model = Sequential()\n",
        "\n",
        "# explicit input layer  \n",
        "#model.add(Embedding(max_feat, units_em))\n",
        "\n",
        "# hidden layer 1 \n",
        "model.add(LSTM(units=units_lstm, dropout=do, return_sequences=True, input_shape=shape))\n",
        "\n",
        "# hidden layer 2\n",
        "#model.add(LSTM(units=units_lstm, dropout=do, return_sequences=True))\n",
        "\n",
        "# hidden layer 3 \n",
        "#model.add(LSTM(units=units_lstm, dropout=do))\n",
        "\n",
        "# hidden layer 4\n",
        "#model.add(Dense(units=units_out, activation=act_hid))\n",
        "\n",
        "# output layer \n",
        "model.add(Dense(units_out, activation=act_out))\n",
        "\n",
        "model.compile(loss=loss,\n",
        "              optimizer=opt, \n",
        "              metrics=[metric])\n",
        "\n",
        "# fit model\n",
        "results = model.fit(X_train, y_train,\n",
        "          batch_size=32, \n",
        "          epochs=5,\n",
        "          steps_per_epoch=1000, \n",
        "          validation_data=(X_test, y_test)\n",
        ")\n",
        "\n",
        "# display model\n",
        "model.summary()"
      ],
      "execution_count": null,
      "outputs": []
    },
    {
      "cell_type": "code",
      "metadata": {
        "id": "MUgNDlX_ZMaX"
      },
      "source": [
        "import matplotlib.pyplot as plt\n",
        "\n",
        "# Plot training & validation loss values\n",
        "plt.plot(results_nn2.history['loss'])\n",
        "plt.plot(results_2.history['val_loss'])\n",
        "plt.title('Model loss')\n",
        "plt.ylabel('Loss')\n",
        "plt.xlabel('Epoch')\n",
        "plt.legend(['Train', 'Test'], loc='upper left')\n",
        "plt.show();"
      ],
      "execution_count": null,
      "outputs": []
    },
    {
      "cell_type": "code",
      "metadata": {
        "id": "aYLHlwxMZd6Z"
      },
      "source": [
        "import matplotlib.pyplot as plt\n",
        "\n",
        "# Plot training & validation loss values\n",
        "plt.plot(results_nn2.history['accuracy'])\n",
        "plt.plot(results_2.history['val_accuracy'])\n",
        "plt.title('Model accuracy')\n",
        "plt.ylabel('Accuracy')\n",
        "plt.xlabel('Epoch')\n",
        "plt.legend(['Train', 'Test'], loc='upper left')\n",
        "plt.show();"
      ],
      "execution_count": null,
      "outputs": []
    },
    {
      "cell_type": "markdown",
      "metadata": {
        "id": "_uHaIL82QON_"
      },
      "source": [
        "#### NN 3 - (instantiate, compile, fit)\n",
        "\n",
        "RNN (deep and wide)"
      ]
    },
    {
      "cell_type": "code",
      "metadata": {
        "id": "3W1qTCmiQOol"
      },
      "source": [
        ""
      ],
      "execution_count": null,
      "outputs": []
    },
    {
      "cell_type": "markdown",
      "metadata": {
        "id": "v0D88AKDLoiZ"
      },
      "source": [
        "## Evaluate model"
      ]
    },
    {
      "cell_type": "code",
      "metadata": {
        "id": "-DoFaBDwLo5r"
      },
      "source": [
        ""
      ],
      "execution_count": null,
      "outputs": []
    },
    {
      "cell_type": "markdown",
      "metadata": {
        "id": "PGNUFy8hLpUK"
      },
      "source": [
        "## Vizualize results"
      ]
    },
    {
      "cell_type": "code",
      "metadata": {
        "id": "u5MGl6KJLqMR"
      },
      "source": [
        ""
      ],
      "execution_count": null,
      "outputs": []
    },
    {
      "cell_type": "markdown",
      "metadata": {
        "id": "XzdVQ9ZKLqt6"
      },
      "source": [
        "## Conclusions"
      ]
    },
    {
      "cell_type": "code",
      "metadata": {
        "id": "YQ5UXtFmLrGN"
      },
      "source": [
        ""
      ],
      "execution_count": null,
      "outputs": []
    },
    {
      "cell_type": "markdown",
      "metadata": {
        "id": "F3B-_uYaOoHe"
      },
      "source": [
        "## Export to application"
      ]
    },
    {
      "cell_type": "code",
      "metadata": {
        "id": "T7HWZoZhOjpu"
      },
      "source": [
        "# convert to json\n"
      ],
      "execution_count": null,
      "outputs": []
    }
  ]
}