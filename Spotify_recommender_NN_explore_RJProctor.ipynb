{
  "nbformat": 4,
  "nbformat_minor": 0,
  "metadata": {
    "colab": {
      "name": "Spotify_recommender_NN_explore_RJProctor.ipynb",
      "provenance": [],
      "collapsed_sections": [],
      "authorship_tag": "ABX9TyPFDNpoR4OwakJYlBODid6N",
      "include_colab_link": true
    },
    "kernelspec": {
      "name": "python3",
      "display_name": "Python 3"
    }
  },
  "cells": [
    {
      "cell_type": "markdown",
      "metadata": {
        "id": "view-in-github",
        "colab_type": "text"
      },
      "source": [
        "<a href=\"https://colab.research.google.com/github/jproctor-rebecca/lambdaprojects/blob/master/Spotify_recommender_NN_explore_RJProctor.ipynb\" target=\"_parent\"><img src=\"https://colab.research.google.com/assets/colab-badge.svg\" alt=\"Open In Colab\"/></a>"
      ]
    },
    {
      "cell_type": "markdown",
      "metadata": {
        "id": "F7XvTMN9Ljij"
      },
      "source": [
        "## Imports and enviroment setup"
      ]
    },
    {
      "cell_type": "code",
      "metadata": {
        "id": "L1wPWHwpLXSP"
      },
      "source": [
        "import pandas as pd\n",
        "import numpy as np\n",
        "import os\n",
        "\n",
        "import matplotlib.pyplot as plt\n",
        "\n",
        "import sklearn\n",
        "from sklearn.model_selection import train_test_split\n",
        "from sklearn.pipeline import Pipeline\n",
        "from sklearn.preprocessing import OneHotEncoder, OrdinalEncoder, StandardScaler\n",
        "from sklearn.neighbors import NearestNeighbors, KNeighborsClassifier\n",
        "from sklearn.manifold import TSNE\n",
        "\n",
        "\n",
        "import tensorflow as tf\n",
        "from tensorflow.keras.models import Sequential\n",
        "from tensorflow.keras.layers import Dense, LSTM, RNN\n",
        "from keras.layers.embeddings import Embedding\n",
        "from keras.preprocessing import sequence\n",
        "\n",
        "# random state\n",
        "rs = 42"
      ],
      "execution_count": 16,
      "outputs": []
    },
    {
      "cell_type": "markdown",
      "metadata": {
        "id": "MQAysJuQLlIj"
      },
      "source": [
        "## Load and clean data"
      ]
    },
    {
      "cell_type": "code",
      "metadata": {
        "id": "hagFotJ0Llvq",
        "outputId": "d8b62535-111b-4bde-e0aa-0f1e4a0274df",
        "colab": {
          "base_uri": "https://localhost:8080/",
          "height": 389
        }
      },
      "source": [
        "# load data\n",
        "# URL = 'https://github.com/Build-Week-Track-Team-7/explore/blob/main/data.csv.zip?raw=true'\n",
        "\n",
        "# path_to_zip = tf.keras.utils.get_file('./data.zip', origin=URL, extract=True)\n",
        "# PATH = os.path.join(os.path.dirname(path_to_zip), 'data')\n",
        "\n",
        "df_raw = pd.read_csv('./data.csv')\n",
        "df_raw.head()\n"
      ],
      "execution_count": 4,
      "outputs": [
        {
          "output_type": "execute_result",
          "data": {
            "text/html": [
              "<div>\n",
              "<style scoped>\n",
              "    .dataframe tbody tr th:only-of-type {\n",
              "        vertical-align: middle;\n",
              "    }\n",
              "\n",
              "    .dataframe tbody tr th {\n",
              "        vertical-align: top;\n",
              "    }\n",
              "\n",
              "    .dataframe thead th {\n",
              "        text-align: right;\n",
              "    }\n",
              "</style>\n",
              "<table border=\"1\" class=\"dataframe\">\n",
              "  <thead>\n",
              "    <tr style=\"text-align: right;\">\n",
              "      <th></th>\n",
              "      <th>acousticness</th>\n",
              "      <th>artists</th>\n",
              "      <th>danceability</th>\n",
              "      <th>duration_ms</th>\n",
              "      <th>energy</th>\n",
              "      <th>explicit</th>\n",
              "      <th>id</th>\n",
              "      <th>instrumentalness</th>\n",
              "      <th>key</th>\n",
              "      <th>liveness</th>\n",
              "      <th>loudness</th>\n",
              "      <th>mode</th>\n",
              "      <th>name</th>\n",
              "      <th>popularity</th>\n",
              "      <th>release_date</th>\n",
              "      <th>speechiness</th>\n",
              "      <th>tempo</th>\n",
              "      <th>valence</th>\n",
              "      <th>year</th>\n",
              "    </tr>\n",
              "  </thead>\n",
              "  <tbody>\n",
              "    <tr>\n",
              "      <th>0</th>\n",
              "      <td>0.995</td>\n",
              "      <td>['Carl Woitschach']</td>\n",
              "      <td>0.708</td>\n",
              "      <td>158648</td>\n",
              "      <td>0.1950</td>\n",
              "      <td>0</td>\n",
              "      <td>6KbQ3uYMLKb5jDxLF7wYDD</td>\n",
              "      <td>0.563</td>\n",
              "      <td>10</td>\n",
              "      <td>0.1510</td>\n",
              "      <td>-12.428</td>\n",
              "      <td>1</td>\n",
              "      <td>Singende Bataillone 1. Teil</td>\n",
              "      <td>0</td>\n",
              "      <td>1928</td>\n",
              "      <td>0.0506</td>\n",
              "      <td>118.469</td>\n",
              "      <td>0.7790</td>\n",
              "      <td>1928</td>\n",
              "    </tr>\n",
              "    <tr>\n",
              "      <th>1</th>\n",
              "      <td>0.994</td>\n",
              "      <td>['Robert Schumann', 'Vladimir Horowitz']</td>\n",
              "      <td>0.379</td>\n",
              "      <td>282133</td>\n",
              "      <td>0.0135</td>\n",
              "      <td>0</td>\n",
              "      <td>6KuQTIu1KoTTkLXKrwlLPV</td>\n",
              "      <td>0.901</td>\n",
              "      <td>8</td>\n",
              "      <td>0.0763</td>\n",
              "      <td>-28.454</td>\n",
              "      <td>1</td>\n",
              "      <td>FantasiestÃ¼cke, Op. 111: PiÃ¹ tosto lento</td>\n",
              "      <td>0</td>\n",
              "      <td>1928</td>\n",
              "      <td>0.0462</td>\n",
              "      <td>83.972</td>\n",
              "      <td>0.0767</td>\n",
              "      <td>1928</td>\n",
              "    </tr>\n",
              "    <tr>\n",
              "      <th>2</th>\n",
              "      <td>0.604</td>\n",
              "      <td>['Seweryn GoszczyÅ„ski']</td>\n",
              "      <td>0.749</td>\n",
              "      <td>104300</td>\n",
              "      <td>0.2200</td>\n",
              "      <td>0</td>\n",
              "      <td>6L63VW0PibdM1HDSBoqnoM</td>\n",
              "      <td>0.000</td>\n",
              "      <td>5</td>\n",
              "      <td>0.1190</td>\n",
              "      <td>-19.924</td>\n",
              "      <td>0</td>\n",
              "      <td>Chapter 1.18 - Zamek kaniowski</td>\n",
              "      <td>0</td>\n",
              "      <td>1928</td>\n",
              "      <td>0.9290</td>\n",
              "      <td>107.177</td>\n",
              "      <td>0.8800</td>\n",
              "      <td>1928</td>\n",
              "    </tr>\n",
              "    <tr>\n",
              "      <th>3</th>\n",
              "      <td>0.995</td>\n",
              "      <td>['Francisco Canaro']</td>\n",
              "      <td>0.781</td>\n",
              "      <td>180760</td>\n",
              "      <td>0.1300</td>\n",
              "      <td>0</td>\n",
              "      <td>6M94FkXd15sOAOQYRnWPN8</td>\n",
              "      <td>0.887</td>\n",
              "      <td>1</td>\n",
              "      <td>0.1110</td>\n",
              "      <td>-14.734</td>\n",
              "      <td>0</td>\n",
              "      <td>Bebamos Juntos - Instrumental (Remasterizado)</td>\n",
              "      <td>0</td>\n",
              "      <td>9/25/1928</td>\n",
              "      <td>0.0926</td>\n",
              "      <td>108.003</td>\n",
              "      <td>0.7200</td>\n",
              "      <td>1928</td>\n",
              "    </tr>\n",
              "    <tr>\n",
              "      <th>4</th>\n",
              "      <td>0.990</td>\n",
              "      <td>['FrÃ©dÃ©ric Chopin', 'Vladimir Horowitz']</td>\n",
              "      <td>0.210</td>\n",
              "      <td>687733</td>\n",
              "      <td>0.2040</td>\n",
              "      <td>0</td>\n",
              "      <td>6N6tiFZ9vLTSOIxkj8qKrd</td>\n",
              "      <td>0.908</td>\n",
              "      <td>11</td>\n",
              "      <td>0.0980</td>\n",
              "      <td>-16.829</td>\n",
              "      <td>1</td>\n",
              "      <td>Polonaise-Fantaisie in A-Flat Major, Op. 61</td>\n",
              "      <td>1</td>\n",
              "      <td>1928</td>\n",
              "      <td>0.0424</td>\n",
              "      <td>62.149</td>\n",
              "      <td>0.0693</td>\n",
              "      <td>1928</td>\n",
              "    </tr>\n",
              "  </tbody>\n",
              "</table>\n",
              "</div>"
            ],
            "text/plain": [
              "   acousticness                                     artists  ...  valence  year\n",
              "0         0.995                         ['Carl Woitschach']  ...   0.7790  1928\n",
              "1         0.994    ['Robert Schumann', 'Vladimir Horowitz']  ...   0.0767  1928\n",
              "2         0.604                    ['Seweryn GoszczyÅ„ski']  ...   0.8800  1928\n",
              "3         0.995                        ['Francisco Canaro']  ...   0.7200  1928\n",
              "4         0.990  ['FrÃ©dÃ©ric Chopin', 'Vladimir Horowitz']  ...   0.0693  1928\n",
              "\n",
              "[5 rows x 19 columns]"
            ]
          },
          "metadata": {
            "tags": []
          },
          "execution_count": 4
        }
      ]
    },
    {
      "cell_type": "code",
      "metadata": {
        "id": "KhwZ79GUgW8y",
        "outputId": "a2dc3ff5-13d9-4a90-bd13-747fcd1cbcaa",
        "colab": {
          "base_uri": "https://localhost:8080/",
          "height": 373
        }
      },
      "source": [
        "    \n",
        "def clean_data(df):\n",
        "  '''\n",
        "  a functions that drops columns which either \n",
        "  add bias or noise to dataset \n",
        "\n",
        "  raw text data\n",
        "  ---\n",
        "  input - dataframe object/ndarray\n",
        "  output - dataframe object/ndarray\n",
        "  '''\n",
        "  # bias\n",
        "  df_cleaned = df.drop('artists', axis=1)\n",
        "    # duplicate/triplicate information may disproportantly weight results\n",
        "  df_cleaned = df_cleaned.drop('release_date', axis=1)\n",
        "    # duplicate/triplicate information may disproportantly weight results\n",
        "\n",
        "  # noise\n",
        "  df_cleaned = df_cleaned.drop('id', axis=1)\n",
        "    # has no meaningful contribution to results\n",
        "\n",
        "  return df_cleaned\n",
        "\n",
        "\n",
        "data_cleaned = clean_data(df_raw)\n",
        "print(data_cleaned.shape)\n",
        "data_cleaned.head()"
      ],
      "execution_count": 6,
      "outputs": [
        {
          "output_type": "stream",
          "text": [
            "(169909, 16)\n"
          ],
          "name": "stdout"
        },
        {
          "output_type": "execute_result",
          "data": {
            "text/html": [
              "<div>\n",
              "<style scoped>\n",
              "    .dataframe tbody tr th:only-of-type {\n",
              "        vertical-align: middle;\n",
              "    }\n",
              "\n",
              "    .dataframe tbody tr th {\n",
              "        vertical-align: top;\n",
              "    }\n",
              "\n",
              "    .dataframe thead th {\n",
              "        text-align: right;\n",
              "    }\n",
              "</style>\n",
              "<table border=\"1\" class=\"dataframe\">\n",
              "  <thead>\n",
              "    <tr style=\"text-align: right;\">\n",
              "      <th></th>\n",
              "      <th>acousticness</th>\n",
              "      <th>danceability</th>\n",
              "      <th>duration_ms</th>\n",
              "      <th>energy</th>\n",
              "      <th>explicit</th>\n",
              "      <th>instrumentalness</th>\n",
              "      <th>key</th>\n",
              "      <th>liveness</th>\n",
              "      <th>loudness</th>\n",
              "      <th>mode</th>\n",
              "      <th>name</th>\n",
              "      <th>popularity</th>\n",
              "      <th>speechiness</th>\n",
              "      <th>tempo</th>\n",
              "      <th>valence</th>\n",
              "      <th>year</th>\n",
              "    </tr>\n",
              "  </thead>\n",
              "  <tbody>\n",
              "    <tr>\n",
              "      <th>0</th>\n",
              "      <td>0.995</td>\n",
              "      <td>0.708</td>\n",
              "      <td>158648</td>\n",
              "      <td>0.1950</td>\n",
              "      <td>0</td>\n",
              "      <td>0.563</td>\n",
              "      <td>10</td>\n",
              "      <td>0.1510</td>\n",
              "      <td>-12.428</td>\n",
              "      <td>1</td>\n",
              "      <td>Singende Bataillone 1. Teil</td>\n",
              "      <td>0</td>\n",
              "      <td>0.0506</td>\n",
              "      <td>118.469</td>\n",
              "      <td>0.7790</td>\n",
              "      <td>1928</td>\n",
              "    </tr>\n",
              "    <tr>\n",
              "      <th>1</th>\n",
              "      <td>0.994</td>\n",
              "      <td>0.379</td>\n",
              "      <td>282133</td>\n",
              "      <td>0.0135</td>\n",
              "      <td>0</td>\n",
              "      <td>0.901</td>\n",
              "      <td>8</td>\n",
              "      <td>0.0763</td>\n",
              "      <td>-28.454</td>\n",
              "      <td>1</td>\n",
              "      <td>FantasiestÃ¼cke, Op. 111: PiÃ¹ tosto lento</td>\n",
              "      <td>0</td>\n",
              "      <td>0.0462</td>\n",
              "      <td>83.972</td>\n",
              "      <td>0.0767</td>\n",
              "      <td>1928</td>\n",
              "    </tr>\n",
              "    <tr>\n",
              "      <th>2</th>\n",
              "      <td>0.604</td>\n",
              "      <td>0.749</td>\n",
              "      <td>104300</td>\n",
              "      <td>0.2200</td>\n",
              "      <td>0</td>\n",
              "      <td>0.000</td>\n",
              "      <td>5</td>\n",
              "      <td>0.1190</td>\n",
              "      <td>-19.924</td>\n",
              "      <td>0</td>\n",
              "      <td>Chapter 1.18 - Zamek kaniowski</td>\n",
              "      <td>0</td>\n",
              "      <td>0.9290</td>\n",
              "      <td>107.177</td>\n",
              "      <td>0.8800</td>\n",
              "      <td>1928</td>\n",
              "    </tr>\n",
              "    <tr>\n",
              "      <th>3</th>\n",
              "      <td>0.995</td>\n",
              "      <td>0.781</td>\n",
              "      <td>180760</td>\n",
              "      <td>0.1300</td>\n",
              "      <td>0</td>\n",
              "      <td>0.887</td>\n",
              "      <td>1</td>\n",
              "      <td>0.1110</td>\n",
              "      <td>-14.734</td>\n",
              "      <td>0</td>\n",
              "      <td>Bebamos Juntos - Instrumental (Remasterizado)</td>\n",
              "      <td>0</td>\n",
              "      <td>0.0926</td>\n",
              "      <td>108.003</td>\n",
              "      <td>0.7200</td>\n",
              "      <td>1928</td>\n",
              "    </tr>\n",
              "    <tr>\n",
              "      <th>4</th>\n",
              "      <td>0.990</td>\n",
              "      <td>0.210</td>\n",
              "      <td>687733</td>\n",
              "      <td>0.2040</td>\n",
              "      <td>0</td>\n",
              "      <td>0.908</td>\n",
              "      <td>11</td>\n",
              "      <td>0.0980</td>\n",
              "      <td>-16.829</td>\n",
              "      <td>1</td>\n",
              "      <td>Polonaise-Fantaisie in A-Flat Major, Op. 61</td>\n",
              "      <td>1</td>\n",
              "      <td>0.0424</td>\n",
              "      <td>62.149</td>\n",
              "      <td>0.0693</td>\n",
              "      <td>1928</td>\n",
              "    </tr>\n",
              "  </tbody>\n",
              "</table>\n",
              "</div>"
            ],
            "text/plain": [
              "   acousticness  danceability  duration_ms  ...    tempo  valence  year\n",
              "0         0.995         0.708       158648  ...  118.469   0.7790  1928\n",
              "1         0.994         0.379       282133  ...   83.972   0.0767  1928\n",
              "2         0.604         0.749       104300  ...  107.177   0.8800  1928\n",
              "3         0.995         0.781       180760  ...  108.003   0.7200  1928\n",
              "4         0.990         0.210       687733  ...   62.149   0.0693  1928\n",
              "\n",
              "[5 rows x 16 columns]"
            ]
          },
          "metadata": {
            "tags": []
          },
          "execution_count": 6
        }
      ]
    },
    {
      "cell_type": "code",
      "metadata": {
        "id": "JjZEV6wva7tK"
      },
      "source": [
        "# shuffle dataset to avoid bias\n",
        "num_rows = 169909\n",
        "data_cleaned = data_cleaned.sample(n=num_rows, \n",
        "                                   replace=False,\n",
        "                                   random_state=rs\n",
        "                                   )\n",
        "\n",
        "# reindex \n",
        "data_cleaned = data_cleaned.reset_index(drop=True)\n"
      ],
      "execution_count": 17,
      "outputs": []
    },
    {
      "cell_type": "code",
      "metadata": {
        "id": "I6ohND9elGMh",
        "outputId": "12626a18-2a64-48b8-e3d4-a3b547270c3d",
        "colab": {
          "base_uri": "https://localhost:8080/",
          "height": 406
        }
      },
      "source": [
        "data_cleaned.head()"
      ],
      "execution_count": 18,
      "outputs": [
        {
          "output_type": "execute_result",
          "data": {
            "text/html": [
              "<div>\n",
              "<style scoped>\n",
              "    .dataframe tbody tr th:only-of-type {\n",
              "        vertical-align: middle;\n",
              "    }\n",
              "\n",
              "    .dataframe tbody tr th {\n",
              "        vertical-align: top;\n",
              "    }\n",
              "\n",
              "    .dataframe thead th {\n",
              "        text-align: right;\n",
              "    }\n",
              "</style>\n",
              "<table border=\"1\" class=\"dataframe\">\n",
              "  <thead>\n",
              "    <tr style=\"text-align: right;\">\n",
              "      <th></th>\n",
              "      <th>acousticness</th>\n",
              "      <th>danceability</th>\n",
              "      <th>duration_ms</th>\n",
              "      <th>energy</th>\n",
              "      <th>explicit</th>\n",
              "      <th>instrumentalness</th>\n",
              "      <th>key</th>\n",
              "      <th>liveness</th>\n",
              "      <th>loudness</th>\n",
              "      <th>mode</th>\n",
              "      <th>name</th>\n",
              "      <th>popularity</th>\n",
              "      <th>speechiness</th>\n",
              "      <th>tempo</th>\n",
              "      <th>valence</th>\n",
              "      <th>year</th>\n",
              "    </tr>\n",
              "  </thead>\n",
              "  <tbody>\n",
              "    <tr>\n",
              "      <th>0</th>\n",
              "      <td>0.0343</td>\n",
              "      <td>0.479</td>\n",
              "      <td>204507</td>\n",
              "      <td>0.7100</td>\n",
              "      <td>0</td>\n",
              "      <td>0.000036</td>\n",
              "      <td>2</td>\n",
              "      <td>0.1120</td>\n",
              "      <td>-10.331</td>\n",
              "      <td>1</td>\n",
              "      <td>Fireplace</td>\n",
              "      <td>31</td>\n",
              "      <td>0.0369</td>\n",
              "      <td>101.607</td>\n",
              "      <td>0.5970</td>\n",
              "      <td>1987</td>\n",
              "    </tr>\n",
              "    <tr>\n",
              "      <th>1</th>\n",
              "      <td>0.4890</td>\n",
              "      <td>0.728</td>\n",
              "      <td>201973</td>\n",
              "      <td>0.7140</td>\n",
              "      <td>0</td>\n",
              "      <td>0.000011</td>\n",
              "      <td>10</td>\n",
              "      <td>0.0912</td>\n",
              "      <td>-7.918</td>\n",
              "      <td>1</td>\n",
              "      <td>The Dry Cleaner From Des Moines</td>\n",
              "      <td>32</td>\n",
              "      <td>0.1520</td>\n",
              "      <td>89.736</td>\n",
              "      <td>0.9120</td>\n",
              "      <td>1979</td>\n",
              "    </tr>\n",
              "    <tr>\n",
              "      <th>2</th>\n",
              "      <td>0.9550</td>\n",
              "      <td>0.777</td>\n",
              "      <td>169920</td>\n",
              "      <td>0.5080</td>\n",
              "      <td>0</td>\n",
              "      <td>0.897000</td>\n",
              "      <td>8</td>\n",
              "      <td>0.1150</td>\n",
              "      <td>-11.817</td>\n",
              "      <td>1</td>\n",
              "      <td>The New Birmingham Breakdown</td>\n",
              "      <td>7</td>\n",
              "      <td>0.0887</td>\n",
              "      <td>113.200</td>\n",
              "      <td>0.9620</td>\n",
              "      <td>1938</td>\n",
              "    </tr>\n",
              "    <tr>\n",
              "      <th>3</th>\n",
              "      <td>0.6070</td>\n",
              "      <td>0.816</td>\n",
              "      <td>191907</td>\n",
              "      <td>0.3750</td>\n",
              "      <td>0</td>\n",
              "      <td>0.000009</td>\n",
              "      <td>7</td>\n",
              "      <td>0.0933</td>\n",
              "      <td>-8.053</td>\n",
              "      <td>1</td>\n",
              "      <td>Banana Pancakes</td>\n",
              "      <td>70</td>\n",
              "      <td>0.0996</td>\n",
              "      <td>114.303</td>\n",
              "      <td>0.6150</td>\n",
              "      <td>2005</td>\n",
              "    </tr>\n",
              "    <tr>\n",
              "      <th>4</th>\n",
              "      <td>0.9470</td>\n",
              "      <td>0.116</td>\n",
              "      <td>592813</td>\n",
              "      <td>0.0653</td>\n",
              "      <td>0</td>\n",
              "      <td>0.151000</td>\n",
              "      <td>10</td>\n",
              "      <td>0.1630</td>\n",
              "      <td>-25.633</td>\n",
              "      <td>1</td>\n",
              "      <td>Das Lied von der Erde: II. Der Einsame im Herbst</td>\n",
              "      <td>0</td>\n",
              "      <td>0.0495</td>\n",
              "      <td>170.923</td>\n",
              "      <td>0.0375</td>\n",
              "      <td>1945</td>\n",
              "    </tr>\n",
              "  </tbody>\n",
              "</table>\n",
              "</div>"
            ],
            "text/plain": [
              "   acousticness  danceability  duration_ms  ...    tempo  valence  year\n",
              "0        0.0343         0.479       204507  ...  101.607   0.5970  1987\n",
              "1        0.4890         0.728       201973  ...   89.736   0.9120  1979\n",
              "2        0.9550         0.777       169920  ...  113.200   0.9620  1938\n",
              "3        0.6070         0.816       191907  ...  114.303   0.6150  2005\n",
              "4        0.9470         0.116       592813  ...  170.923   0.0375  1945\n",
              "\n",
              "[5 rows x 16 columns]"
            ]
          },
          "metadata": {
            "tags": []
          },
          "execution_count": 18
        }
      ]
    },
    {
      "cell_type": "markdown",
      "metadata": {
        "id": "S1G4G0ATuDCD"
      },
      "source": [
        "#### EDA"
      ]
    },
    {
      "cell_type": "code",
      "metadata": {
        "id": "MpEk7mYruCiz",
        "outputId": "ac047624-7f01-4e00-d8ae-9368f33269dd",
        "colab": {
          "base_uri": "https://localhost:8080/",
          "height": 310
        }
      },
      "source": [
        "data_cleaned.describe()"
      ],
      "execution_count": 19,
      "outputs": [
        {
          "output_type": "execute_result",
          "data": {
            "text/html": [
              "<div>\n",
              "<style scoped>\n",
              "    .dataframe tbody tr th:only-of-type {\n",
              "        vertical-align: middle;\n",
              "    }\n",
              "\n",
              "    .dataframe tbody tr th {\n",
              "        vertical-align: top;\n",
              "    }\n",
              "\n",
              "    .dataframe thead th {\n",
              "        text-align: right;\n",
              "    }\n",
              "</style>\n",
              "<table border=\"1\" class=\"dataframe\">\n",
              "  <thead>\n",
              "    <tr style=\"text-align: right;\">\n",
              "      <th></th>\n",
              "      <th>acousticness</th>\n",
              "      <th>danceability</th>\n",
              "      <th>duration_ms</th>\n",
              "      <th>energy</th>\n",
              "      <th>explicit</th>\n",
              "      <th>instrumentalness</th>\n",
              "      <th>key</th>\n",
              "      <th>liveness</th>\n",
              "      <th>loudness</th>\n",
              "      <th>mode</th>\n",
              "      <th>popularity</th>\n",
              "      <th>speechiness</th>\n",
              "      <th>tempo</th>\n",
              "      <th>valence</th>\n",
              "      <th>year</th>\n",
              "    </tr>\n",
              "  </thead>\n",
              "  <tbody>\n",
              "    <tr>\n",
              "      <th>count</th>\n",
              "      <td>169909.000000</td>\n",
              "      <td>169909.000000</td>\n",
              "      <td>1.699090e+05</td>\n",
              "      <td>169909.000000</td>\n",
              "      <td>169909.000000</td>\n",
              "      <td>169909.000000</td>\n",
              "      <td>169909.000000</td>\n",
              "      <td>169909.000000</td>\n",
              "      <td>169909.000000</td>\n",
              "      <td>169909.000000</td>\n",
              "      <td>169909.000000</td>\n",
              "      <td>169909.000000</td>\n",
              "      <td>169909.000000</td>\n",
              "      <td>169909.000000</td>\n",
              "      <td>169909.000000</td>\n",
              "    </tr>\n",
              "    <tr>\n",
              "      <th>mean</th>\n",
              "      <td>0.493214</td>\n",
              "      <td>0.538150</td>\n",
              "      <td>2.314062e+05</td>\n",
              "      <td>0.488593</td>\n",
              "      <td>0.084863</td>\n",
              "      <td>0.161937</td>\n",
              "      <td>5.200519</td>\n",
              "      <td>0.206690</td>\n",
              "      <td>-11.370289</td>\n",
              "      <td>0.708556</td>\n",
              "      <td>31.556610</td>\n",
              "      <td>0.094058</td>\n",
              "      <td>116.948017</td>\n",
              "      <td>0.532095</td>\n",
              "      <td>1977.223231</td>\n",
              "    </tr>\n",
              "    <tr>\n",
              "      <th>std</th>\n",
              "      <td>0.376627</td>\n",
              "      <td>0.175346</td>\n",
              "      <td>1.213219e+05</td>\n",
              "      <td>0.267390</td>\n",
              "      <td>0.278679</td>\n",
              "      <td>0.309329</td>\n",
              "      <td>3.515257</td>\n",
              "      <td>0.176796</td>\n",
              "      <td>5.666765</td>\n",
              "      <td>0.454429</td>\n",
              "      <td>21.582614</td>\n",
              "      <td>0.149937</td>\n",
              "      <td>30.726937</td>\n",
              "      <td>0.262408</td>\n",
              "      <td>25.593168</td>\n",
              "    </tr>\n",
              "    <tr>\n",
              "      <th>min</th>\n",
              "      <td>0.000000</td>\n",
              "      <td>0.000000</td>\n",
              "      <td>5.108000e+03</td>\n",
              "      <td>0.000000</td>\n",
              "      <td>0.000000</td>\n",
              "      <td>0.000000</td>\n",
              "      <td>0.000000</td>\n",
              "      <td>0.000000</td>\n",
              "      <td>-60.000000</td>\n",
              "      <td>0.000000</td>\n",
              "      <td>0.000000</td>\n",
              "      <td>0.000000</td>\n",
              "      <td>0.000000</td>\n",
              "      <td>0.000000</td>\n",
              "      <td>1921.000000</td>\n",
              "    </tr>\n",
              "    <tr>\n",
              "      <th>25%</th>\n",
              "      <td>0.094500</td>\n",
              "      <td>0.417000</td>\n",
              "      <td>1.710400e+05</td>\n",
              "      <td>0.263000</td>\n",
              "      <td>0.000000</td>\n",
              "      <td>0.000000</td>\n",
              "      <td>2.000000</td>\n",
              "      <td>0.098400</td>\n",
              "      <td>-14.470000</td>\n",
              "      <td>0.000000</td>\n",
              "      <td>12.000000</td>\n",
              "      <td>0.034900</td>\n",
              "      <td>93.516000</td>\n",
              "      <td>0.322000</td>\n",
              "      <td>1957.000000</td>\n",
              "    </tr>\n",
              "    <tr>\n",
              "      <th>50%</th>\n",
              "      <td>0.492000</td>\n",
              "      <td>0.548000</td>\n",
              "      <td>2.086000e+05</td>\n",
              "      <td>0.481000</td>\n",
              "      <td>0.000000</td>\n",
              "      <td>0.000204</td>\n",
              "      <td>5.000000</td>\n",
              "      <td>0.135000</td>\n",
              "      <td>-10.474000</td>\n",
              "      <td>1.000000</td>\n",
              "      <td>33.000000</td>\n",
              "      <td>0.045000</td>\n",
              "      <td>114.778000</td>\n",
              "      <td>0.544000</td>\n",
              "      <td>1978.000000</td>\n",
              "    </tr>\n",
              "    <tr>\n",
              "      <th>75%</th>\n",
              "      <td>0.888000</td>\n",
              "      <td>0.667000</td>\n",
              "      <td>2.629600e+05</td>\n",
              "      <td>0.710000</td>\n",
              "      <td>0.000000</td>\n",
              "      <td>0.086800</td>\n",
              "      <td>8.000000</td>\n",
              "      <td>0.263000</td>\n",
              "      <td>-7.118000</td>\n",
              "      <td>1.000000</td>\n",
              "      <td>48.000000</td>\n",
              "      <td>0.075400</td>\n",
              "      <td>135.712000</td>\n",
              "      <td>0.749000</td>\n",
              "      <td>1999.000000</td>\n",
              "    </tr>\n",
              "    <tr>\n",
              "      <th>max</th>\n",
              "      <td>0.996000</td>\n",
              "      <td>0.988000</td>\n",
              "      <td>5.403500e+06</td>\n",
              "      <td>1.000000</td>\n",
              "      <td>1.000000</td>\n",
              "      <td>1.000000</td>\n",
              "      <td>11.000000</td>\n",
              "      <td>1.000000</td>\n",
              "      <td>3.855000</td>\n",
              "      <td>1.000000</td>\n",
              "      <td>100.000000</td>\n",
              "      <td>0.969000</td>\n",
              "      <td>244.091000</td>\n",
              "      <td>1.000000</td>\n",
              "      <td>2020.000000</td>\n",
              "    </tr>\n",
              "  </tbody>\n",
              "</table>\n",
              "</div>"
            ],
            "text/plain": [
              "        acousticness   danceability  ...        valence           year\n",
              "count  169909.000000  169909.000000  ...  169909.000000  169909.000000\n",
              "mean        0.493214       0.538150  ...       0.532095    1977.223231\n",
              "std         0.376627       0.175346  ...       0.262408      25.593168\n",
              "min         0.000000       0.000000  ...       0.000000    1921.000000\n",
              "25%         0.094500       0.417000  ...       0.322000    1957.000000\n",
              "50%         0.492000       0.548000  ...       0.544000    1978.000000\n",
              "75%         0.888000       0.667000  ...       0.749000    1999.000000\n",
              "max         0.996000       0.988000  ...       1.000000    2020.000000\n",
              "\n",
              "[8 rows x 15 columns]"
            ]
          },
          "metadata": {
            "tags": []
          },
          "execution_count": 19
        }
      ]
    },
    {
      "cell_type": "code",
      "metadata": {
        "id": "yI2gvcYYuuvg",
        "outputId": "e242e5ac-2982-4c1e-9a47-9a4ffa6183f1",
        "colab": {
          "base_uri": "https://localhost:8080/",
          "height": 169
        }
      },
      "source": [
        "data_cleaned.describe(exclude='number')"
      ],
      "execution_count": 20,
      "outputs": [
        {
          "output_type": "execute_result",
          "data": {
            "text/html": [
              "<div>\n",
              "<style scoped>\n",
              "    .dataframe tbody tr th:only-of-type {\n",
              "        vertical-align: middle;\n",
              "    }\n",
              "\n",
              "    .dataframe tbody tr th {\n",
              "        vertical-align: top;\n",
              "    }\n",
              "\n",
              "    .dataframe thead th {\n",
              "        text-align: right;\n",
              "    }\n",
              "</style>\n",
              "<table border=\"1\" class=\"dataframe\">\n",
              "  <thead>\n",
              "    <tr style=\"text-align: right;\">\n",
              "      <th></th>\n",
              "      <th>name</th>\n",
              "    </tr>\n",
              "  </thead>\n",
              "  <tbody>\n",
              "    <tr>\n",
              "      <th>count</th>\n",
              "      <td>169909</td>\n",
              "    </tr>\n",
              "    <tr>\n",
              "      <th>unique</th>\n",
              "      <td>132939</td>\n",
              "    </tr>\n",
              "    <tr>\n",
              "      <th>top</th>\n",
              "      <td>Summertime</td>\n",
              "    </tr>\n",
              "    <tr>\n",
              "      <th>freq</th>\n",
              "      <td>62</td>\n",
              "    </tr>\n",
              "  </tbody>\n",
              "</table>\n",
              "</div>"
            ],
            "text/plain": [
              "              name\n",
              "count       169909\n",
              "unique      132939\n",
              "top     Summertime\n",
              "freq            62"
            ]
          },
          "metadata": {
            "tags": []
          },
          "execution_count": 20
        }
      ]
    },
    {
      "cell_type": "code",
      "metadata": {
        "id": "y2CaowZ62E-j",
        "outputId": "cb356774-cea1-463e-c996-9245da5e6200",
        "colab": {
          "base_uri": "https://localhost:8080/",
          "height": 265
        }
      },
      "source": [
        "# scatter plot of features as they relate to sampling of individual songs\n",
        "# features within the -25 to 0 range\n",
        "plt.scatter(data_cleaned['loudness'][:20], data_cleaned['name'][:20], c='navy')\n",
        "plt.show()\n"
      ],
      "execution_count": 38,
      "outputs": [
        {
          "output_type": "display_data",
          "data": {
            "image/png": "[encoded data removed]",
            "text/plain": [
              "<Figure size 432x288 with 1 Axes>"
            ]
          },
          "metadata": {
            "tags": [],
            "needs_background": "light"
          }
        }
      ]
    },
    {
      "cell_type": "code",
      "metadata": {
        "id": "rI7LTGnkwS1R",
        "outputId": "6d268ba0-5eca-4c2d-b172-0920fa48c026",
        "colab": {
          "base_uri": "https://localhost:8080/",
          "height": 265
        }
      },
      "source": [
        "# features within the 0-1 range\n",
        "plt.scatter(data_cleaned['acousticness'][:20], data_cleaned['name'][:20], c='red')\n",
        "plt.scatter(data_cleaned['danceability'][:20], data_cleaned['name'][:20], c='blue')\n",
        "plt.scatter(data_cleaned['energy'][:20], data_cleaned['name'][:20], c='orange')\n",
        "plt.scatter(data_cleaned['liveness'][:20], data_cleaned['name'][:20], c='lightgreen')\n",
        "plt.scatter(data_cleaned['valence'][:20], data_cleaned['name'][:20], c='tomato')\n",
        "\n",
        "plt.show()"
      ],
      "execution_count": 47,
      "outputs": [
        {
          "output_type": "display_data",
          "data": {
            "image/png": "[encoded data removed]",
            "text/plain": [
              "<Figure size 432x288 with 1 Axes>"
            ]
          },
          "metadata": {
            "tags": [],
            "needs_background": "light"
          }
        }
      ]
    },
    {
      "cell_type": "code",
      "metadata": {
        "id": "qgTY05hf00xN",
        "outputId": "9138cbc3-79d3-481a-98d4-abe34e0bddbd",
        "colab": {
          "base_uri": "https://localhost:8080/",
          "height": 265
        }
      },
      "source": [
        "# features that may have some correlation\n",
        "plt.scatter(data_cleaned['instrumentalness'][:20], data_cleaned['name'][:20], c='pink')\n",
        "plt.scatter(data_cleaned['speechiness'][:20], data_cleaned['name'][:20], c='plum')\n",
        "plt.show()"
      ],
      "execution_count": 34,
      "outputs": [
        {
          "output_type": "display_data",
          "data": {
            "image/png": "[encoded data removed]",
            "text/plain": [
              "<Figure size 432x288 with 1 Axes>"
            ]
          },
          "metadata": {
            "tags": [],
            "needs_background": "light"
          }
        }
      ]
    },
    {
      "cell_type": "code",
      "metadata": {
        "id": "l3rmY6XN0fI4",
        "outputId": "20f0799c-3c2b-4a00-e4ae-fb4bc9e4b8d0",
        "colab": {
          "base_uri": "https://localhost:8080/",
          "height": 265
        }
      },
      "source": [
        "# boolean values\n",
        "plt.scatter(data_cleaned['explicit'][:20], data_cleaned['name'][:20], c='yellow')\n",
        "plt.scatter(data_cleaned['mode'][:20], data_cleaned['name'][:20], c='peachpuff')\n",
        "plt.show()"
      ],
      "execution_count": 32,
      "outputs": [
        {
          "output_type": "display_data",
          "data": {
            "image/png": "[encoded data removed]",
            "text/plain": [
              "<Figure size 432x288 with 1 Axes>"
            ]
          },
          "metadata": {
            "tags": [],
            "needs_background": "light"
          }
        }
      ]
    },
    {
      "cell_type": "code",
      "metadata": {
        "id": "yOSAyaDf1zPw",
        "outputId": "68fa5d35-787a-4623-efc4-395b8e5cb0db",
        "colab": {
          "base_uri": "https://localhost:8080/",
          "height": 265
        }
      },
      "source": [
        "# features within the 1 - 11 range\n",
        "plt.scatter(data_cleaned['key'][:20], data_cleaned['name'][:20], c='gray')\n",
        "plt.show()"
      ],
      "execution_count": 37,
      "outputs": [
        {
          "output_type": "display_data",
          "data": {
            "image/png": "[encoded data removed]",
            "text/plain": [
              "<Figure size 432x288 with 1 Axes>"
            ]
          },
          "metadata": {
            "tags": [],
            "needs_background": "light"
          }
        }
      ]
    },
    {
      "cell_type": "code",
      "metadata": {
        "id": "jKp9Y5mD2xM-",
        "outputId": "745691d4-dd95-4d77-c294-6351425ade73",
        "colab": {
          "base_uri": "https://localhost:8080/",
          "height": 265
        }
      },
      "source": [
        "# features within the 70 - 170 range\n",
        "plt.scatter(data_cleaned['tempo'][:20], data_cleaned['name'][:20], c='goldenrod')\n",
        "plt.show()"
      ],
      "execution_count": 39,
      "outputs": [
        {
          "output_type": "display_data",
          "data": {
            "image/png": "[encoded data removed]",
            "text/plain": [
              "<Figure size 432x288 with 1 Axes>"
            ]
          },
          "metadata": {
            "tags": [],
            "needs_background": "light"
          }
        }
      ]
    },
    {
      "cell_type": "code",
      "metadata": {
        "id": "uyT4-ayP29xW",
        "outputId": "319f96cb-9ffd-425c-f2d8-81512476a90a",
        "colab": {
          "base_uri": "https://localhost:8080/",
          "height": 265
        }
      },
      "source": [
        "# features within years 1921 - 2020 \n",
        "plt.scatter(data_cleaned['year'][:20], data_cleaned['name'][:20], c='blueviolet')\n",
        "plt.show()"
      ],
      "execution_count": 46,
      "outputs": [
        {
          "output_type": "display_data",
          "data": {
            "image/png": "[encoded data removed]",
            "text/plain": [
              "<Figure size 432x288 with 1 Axes>"
            ]
          },
          "metadata": {
            "tags": [],
            "needs_background": "light"
          }
        }
      ]
    },
    {
      "cell_type": "code",
      "metadata": {
        "id": "xBuvRHVj1ko2",
        "outputId": "01b30635-4bea-4c07-db86-a25d9624d48a",
        "colab": {
          "base_uri": "https://localhost:8080/",
          "height": 265
        }
      },
      "source": [
        "# features within the 200000 - 800000 range\n",
        "plt.scatter(data_cleaned['duration_ms'][:20], data_cleaned['name'][:20], c='green')\n",
        "plt.show()"
      ],
      "execution_count": 36,
      "outputs": [
        {
          "output_type": "display_data",
          "data": {
            "image/png": "[encoded data removed]",
            "text/plain": [
              "<Figure size 432x288 with 1 Axes>"
            ]
          },
          "metadata": {
            "tags": [],
            "needs_background": "light"
          }
        }
      ]
    },
    {
      "cell_type": "markdown",
      "metadata": {
        "id": "d4ppl106Lmgg"
      },
      "source": [
        "## Additional preproccessing of data\n",
        "Pipeline 1 - (instantiate, fit_transform)\n",
        "\n",
        "\n",
        "*   StandardScaler\n",
        "\n",
        "Pipeline 2, 3, 4 - (instantiate, fit, predict)\n",
        "\n",
        "*   NN\n",
        "*   PCA\n",
        "*   t_SNE"
      ]
    },
    {
      "cell_type": "markdown",
      "metadata": {
        "id": "uN4WmSbp-rfL"
      },
      "source": [
        "#### Pipeline 1"
      ]
    },
    {
      "cell_type": "code",
      "metadata": {
        "id": "NCc1AeXicUcv"
      },
      "source": [
        "# create feature matrix\n",
        "X = data_cleaned.drop('name', axis=1)\n",
        "y = data_cleaned['name']\n",
        "\n"
      ],
      "execution_count": 9,
      "outputs": []
    },
    {
      "cell_type": "code",
      "metadata": {
        "id": "y50QQ-LNzBRj"
      },
      "source": [
        "## TODO..create transformer functions outside of pipeline, get working and  then move inside pipeline\n",
        "\n",
        "\n",
        "# normalize standardize data using pipeline (instantiate, fit, transform)\n",
        "# onehotender, ordinal encoder, standard scaler in order\n",
        "\n",
        "# instantiate pipeline\n",
        "pipe_1 = Pipeline([\n",
        "                 #('onehotencoder', OneHotEncoder()), \n",
        "                 #('ordinalencoder', OrdinalEncoder()), \n",
        "                 ('standardscaler', StandardScaler()), \n",
        "                 ])\n",
        "\n",
        "# fit data to transformer and transform data\n",
        "pipe_1.fit_transform(X, y)\n",
        "\n",
        "\n",
        "# check data\n",
        "print(X_train.shape)\n",
        "print(y_train.shape)\n",
        "print(X_test.shape)\n",
        "print(y_test.shape)\n"
      ],
      "execution_count": null,
      "outputs": []
    },
    {
      "cell_type": "code",
      "metadata": {
        "id": "BHfXdgl6LnA5"
      },
      "source": [
        "\n",
        "\n",
        "# split data - train/test split\n",
        "X_train, X_test, y_train, y_test = train_test_split(X, y, \n",
        "                                                    test_size=0.20, \n",
        "                                                    random_state=42\n",
        "                                                    )\n",
        "\n",
        "# X_arr = np.asarray(X)\n",
        "# y_arr = np.asarray(y)\n",
        "\n",
        "\n",
        "# # split data - train/test split\n",
        "# X_train, X_test, y_train, y_test = train_test_split(X_arr, y_arr, \n",
        "#                                                     test_size=0.20, \n",
        "#                                                     random_state=42\n",
        "#                                                     )\n",
        "\n",
        "\n",
        "print(X_train.shape)\n",
        "print(y_train.shape)\n",
        "print(X_test.shape)\n",
        "print(y_test.shape)"
      ],
      "execution_count": null,
      "outputs": []
    },
    {
      "cell_type": "markdown",
      "metadata": {
        "id": "chx4RAkO-wbv"
      },
      "source": [
        "#### Pipeline 2"
      ]
    },
    {
      "cell_type": "code",
      "metadata": {
        "id": "mtV4JomQ-0V1"
      },
      "source": [
        ""
      ],
      "execution_count": null,
      "outputs": []
    },
    {
      "cell_type": "markdown",
      "metadata": {
        "id": "o298AkdJ-zzV"
      },
      "source": [
        "#### Pipeline 3"
      ]
    },
    {
      "cell_type": "code",
      "metadata": {
        "id": "40sPWILM-28H"
      },
      "source": [
        ""
      ],
      "execution_count": null,
      "outputs": []
    },
    {
      "cell_type": "markdown",
      "metadata": {
        "id": "ovHU8UEc-3b7"
      },
      "source": [
        "#### Pipeline 4"
      ]
    },
    {
      "cell_type": "code",
      "metadata": {
        "id": "totjPFeA-57b"
      },
      "source": [
        ""
      ],
      "execution_count": null,
      "outputs": []
    },
    {
      "cell_type": "markdown",
      "metadata": {
        "id": "vqDOFNff-8ba"
      },
      "source": [
        "#### Transform data to numpy array to feed into NN"
      ]
    },
    {
      "cell_type": "code",
      "metadata": {
        "id": "MynLyLt32-jb"
      },
      "source": [
        "# transform data to np array\n"
      ],
      "execution_count": null,
      "outputs": []
    },
    {
      "cell_type": "markdown",
      "metadata": {
        "id": "hTtXVJRQLnYu"
      },
      "source": [
        "## Neural Network model \n",
        "Pipeline 1 - (instantiate, compile, fit)\n",
        "\n",
        "*   RNN\n",
        "*   LSTM\n",
        "*   RNN (deep and wide)"
      ]
    },
    {
      "cell_type": "code",
      "metadata": {
        "id": "KkH1einZLoL3"
      },
      "source": [
        ""
      ],
      "execution_count": null,
      "outputs": []
    },
    {
      "cell_type": "markdown",
      "metadata": {
        "id": "v0D88AKDLoiZ"
      },
      "source": [
        "## Evaluate model"
      ]
    },
    {
      "cell_type": "code",
      "metadata": {
        "id": "-DoFaBDwLo5r"
      },
      "source": [
        ""
      ],
      "execution_count": null,
      "outputs": []
    },
    {
      "cell_type": "markdown",
      "metadata": {
        "id": "PGNUFy8hLpUK"
      },
      "source": [
        "## Vizualize results"
      ]
    },
    {
      "cell_type": "code",
      "metadata": {
        "id": "u5MGl6KJLqMR"
      },
      "source": [
        ""
      ],
      "execution_count": null,
      "outputs": []
    },
    {
      "cell_type": "markdown",
      "metadata": {
        "id": "XzdVQ9ZKLqt6"
      },
      "source": [
        "## Conclusions"
      ]
    },
    {
      "cell_type": "code",
      "metadata": {
        "id": "YQ5UXtFmLrGN"
      },
      "source": [
        ""
      ],
      "execution_count": null,
      "outputs": []
    },
    {
      "cell_type": "markdown",
      "metadata": {
        "id": "F3B-_uYaOoHe"
      },
      "source": [
        "## Export to application"
      ]
    },
    {
      "cell_type": "code",
      "metadata": {
        "id": "T7HWZoZhOjpu"
      },
      "source": [
        "# convert to json\n"
      ],
      "execution_count": null,
      "outputs": []
    }
  ]
}